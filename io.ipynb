{
 "cells": [
  {
   "cell_type": "markdown",
   "id": "a61a8f4c",
   "metadata": {},
   "source": [
    "# Rad sa fajlovima"
   ]
  },
  {
   "cell_type": "markdown",
   "id": "8dc5c4f5",
   "metadata": {},
   "source": [
    "Kreiranje fajla kroz jupyter notebook je dato u nastavku"
   ]
  },
  {
   "cell_type": "code",
   "execution_count": 2,
   "id": "64860ddd",
   "metadata": {},
   "outputs": [
    {
     "name": "stdout",
     "output_type": "stream",
     "text": [
      "Overwriting file.txt\n"
     ]
    }
   ],
   "source": [
    "%%writefile file.txt\n",
    "LINE1\n",
    "LINE2"
   ]
  },
  {
   "cell_type": "markdown",
   "id": "c42ade6a",
   "metadata": {},
   "source": [
    "Prilikom otvaranja fajla potrebno je specifikovati njegovu putanju, te opciono način rada sa fajlom i druge parametre. Fajl je\n",
    "moguće otovoriti u sljedećim modovima rada:\n",
    "r - samo čitanje postojećeg fajla\n",
    "w - prepisivanje postojećeg ili kreiranje i upis u novokreirani fajl\n",
    "a - upis na kraj postojećeg/novog fajla\n",
    "r+ - čitanje i pisanje u postojeći fajl\n",
    "w+ - čitanje i pisanje u postojeći/novi fajl\n",
    "a+ - čitanje i upis na kraj postojećeg/novog fajla \n",
    "Za bianrne fajlove se dodaje još i \"b\" u mod."
   ]
  },
  {
   "cell_type": "code",
   "execution_count": 3,
   "id": "20a36054",
   "metadata": {},
   "outputs": [
    {
     "ename": "FileNotFoundError",
     "evalue": "[Errno 2] No such file or directory: 'nonexistingfile.txt'",
     "output_type": "error",
     "traceback": [
      "\u001b[1;31m---------------------------------------------------------------------------\u001b[0m",
      "\u001b[1;31mFileNotFoundError\u001b[0m                         Traceback (most recent call last)",
      "Cell \u001b[1;32mIn[3], line 1\u001b[0m\n\u001b[1;32m----> 1\u001b[0m file\u001b[38;5;241m=\u001b[39m\u001b[38;5;28mopen\u001b[39m(\u001b[38;5;124m\"\u001b[39m\u001b[38;5;124mnonexistingfile.txt\u001b[39m\u001b[38;5;124m\"\u001b[39m)\n",
      "File \u001b[1;32m~\\AppData\\Local\\anaconda3\\Lib\\site-packages\\IPython\\core\\interactiveshell.py:286\u001b[0m, in \u001b[0;36m_modified_open\u001b[1;34m(file, *args, **kwargs)\u001b[0m\n\u001b[0;32m    279\u001b[0m \u001b[38;5;28;01mif\u001b[39;00m file \u001b[38;5;129;01min\u001b[39;00m {\u001b[38;5;241m0\u001b[39m, \u001b[38;5;241m1\u001b[39m, \u001b[38;5;241m2\u001b[39m}:\n\u001b[0;32m    280\u001b[0m     \u001b[38;5;28;01mraise\u001b[39;00m \u001b[38;5;167;01mValueError\u001b[39;00m(\n\u001b[0;32m    281\u001b[0m         \u001b[38;5;124mf\u001b[39m\u001b[38;5;124m\"\u001b[39m\u001b[38;5;124mIPython won\u001b[39m\u001b[38;5;124m'\u001b[39m\u001b[38;5;124mt let you open fd=\u001b[39m\u001b[38;5;132;01m{\u001b[39;00mfile\u001b[38;5;132;01m}\u001b[39;00m\u001b[38;5;124m by default \u001b[39m\u001b[38;5;124m\"\u001b[39m\n\u001b[0;32m    282\u001b[0m         \u001b[38;5;124m\"\u001b[39m\u001b[38;5;124mas it is likely to crash IPython. If you know what you are doing, \u001b[39m\u001b[38;5;124m\"\u001b[39m\n\u001b[0;32m    283\u001b[0m         \u001b[38;5;124m\"\u001b[39m\u001b[38;5;124myou can use builtins\u001b[39m\u001b[38;5;124m'\u001b[39m\u001b[38;5;124m open.\u001b[39m\u001b[38;5;124m\"\u001b[39m\n\u001b[0;32m    284\u001b[0m     )\n\u001b[1;32m--> 286\u001b[0m \u001b[38;5;28;01mreturn\u001b[39;00m io_open(file, \u001b[38;5;241m*\u001b[39margs, \u001b[38;5;241m*\u001b[39m\u001b[38;5;241m*\u001b[39mkwargs)\n",
      "\u001b[1;31mFileNotFoundError\u001b[0m: [Errno 2] No such file or directory: 'nonexistingfile.txt'"
     ]
    }
   ],
   "source": [
    "file=open(\"nonexistingfile.txt\")"
   ]
  },
  {
   "cell_type": "code",
   "execution_count": 4,
   "id": "42458533",
   "metadata": {},
   "outputs": [],
   "source": [
    "file=open(\"file.txt\",mode=\"r\")"
   ]
  },
  {
   "cell_type": "markdown",
   "id": "f2dee2b9",
   "metadata": {},
   "source": [
    "Čitanjem fajla pomijera se pozicija kursora. Funkcija read() pročita sav sadržaj fajl u vrati ga u vidu stringa (newline je predstavljen sa \\n) i pomjeri kursor na kraj - zbog toga sljedeće čitanje ne vrati ništa. "
   ]
  },
  {
   "cell_type": "code",
   "execution_count": 7,
   "id": "00db8cae",
   "metadata": {},
   "outputs": [
    {
     "data": {
      "text/plain": [
       "_io.TextIOWrapper"
      ]
     },
     "execution_count": 7,
     "metadata": {},
     "output_type": "execute_result"
    }
   ],
   "source": [
    "type(file)"
   ]
  },
  {
   "cell_type": "code",
   "execution_count": 8,
   "id": "bcccbbca",
   "metadata": {},
   "outputs": [
    {
     "data": {
      "text/plain": [
       "'LINE1\\nLINE2\\n'"
      ]
     },
     "execution_count": 8,
     "metadata": {},
     "output_type": "execute_result"
    }
   ],
   "source": [
    "file.read()"
   ]
  },
  {
   "cell_type": "code",
   "execution_count": 9,
   "id": "39df6c6b",
   "metadata": {},
   "outputs": [
    {
     "data": {
      "text/plain": [
       "''"
      ]
     },
     "execution_count": 9,
     "metadata": {},
     "output_type": "execute_result"
    }
   ],
   "source": [
    "file.read()"
   ]
  },
  {
   "cell_type": "code",
   "execution_count": 10,
   "id": "981b5934",
   "metadata": {},
   "outputs": [
    {
     "data": {
      "text/plain": [
       "0"
      ]
     },
     "execution_count": 10,
     "metadata": {},
     "output_type": "execute_result"
    }
   ],
   "source": [
    "file.seek(0)"
   ]
  },
  {
   "cell_type": "code",
   "execution_count": 11,
   "id": "26e6c409",
   "metadata": {},
   "outputs": [
    {
     "data": {
      "text/plain": [
       "['LINE1\\n', 'LINE2\\n']"
      ]
     },
     "execution_count": 11,
     "metadata": {},
     "output_type": "execute_result"
    }
   ],
   "source": [
    "file.readlines()"
   ]
  },
  {
   "cell_type": "code",
   "execution_count": 12,
   "id": "31f528ed",
   "metadata": {},
   "outputs": [
    {
     "ename": "UnsupportedOperation",
     "evalue": "not writable",
     "output_type": "error",
     "traceback": [
      "\u001b[1;31m---------------------------------------------------------------------------\u001b[0m",
      "\u001b[1;31mUnsupportedOperation\u001b[0m                      Traceback (most recent call last)",
      "Cell \u001b[1;32mIn[12], line 1\u001b[0m\n\u001b[1;32m----> 1\u001b[0m file\u001b[38;5;241m.\u001b[39mwrite(\u001b[38;5;124m\"\u001b[39m\u001b[38;5;124mNEW CONTENT\u001b[39m\u001b[38;5;124m\"\u001b[39m)\n",
      "\u001b[1;31mUnsupportedOperation\u001b[0m: not writable"
     ]
    }
   ],
   "source": [
    "file.write(\"NEW CONTENT\")"
   ]
  },
  {
   "cell_type": "markdown",
   "id": "c2d5df5f",
   "metadata": {},
   "source": [
    "Kako bi proces u kome se izvršava python kod oslobodio resurs, tj. fajl, potrebno je eksplicitno pozvati close() metodu  ili koristiti with blok (prilikom izlaska iz with bloka implicitno se poziva close() metoda)"
   ]
  },
  {
   "cell_type": "code",
   "execution_count": 13,
   "id": "d666881a",
   "metadata": {},
   "outputs": [],
   "source": [
    "file.close()"
   ]
  },
  {
   "cell_type": "code",
   "execution_count": 14,
   "id": "10e6402f",
   "metadata": {},
   "outputs": [],
   "source": [
    "with open(\"file.txt\",\"w+\") as file:\n",
    "    file.write(\"NEW CONTENT\")\n",
    "    file.read()"
   ]
  },
  {
   "cell_type": "code",
   "execution_count": 15,
   "id": "1729296a",
   "metadata": {},
   "outputs": [
    {
     "name": "stdout",
     "output_type": "stream",
     "text": [
      "C:\\Users\\ztripic\\Jupiter Notebooks\n"
     ]
    }
   ],
   "source": [
    "import os\n",
    "print(os.getcwd())\n"
   ]
  },
  {
   "cell_type": "code",
   "execution_count": 16,
   "id": "2515d580",
   "metadata": {},
   "outputs": [
    {
     "name": "stdout",
     "output_type": "stream",
     "text": [
      "['.ipynb_checkpoints', '07-Statements Assessment Test.ipynb', 'collections-module.ipynb', 'data_types.ipynb', 'datetime&time&timeit.ipynb', 'file.txt', 'flow_control.ipynb', 'functions.ipynb', 'io.ipynb', 'math&random.ipynb', 'misc.ipynb', 'oop.ipynb', 'problems.ipynb', 'regex.ipynb']\n"
     ]
    }
   ],
   "source": [
    "print(os.listdir())"
   ]
  },
  {
   "cell_type": "code",
   "execution_count": 17,
   "id": "5caf2e0e",
   "metadata": {},
   "outputs": [
    {
     "name": "stdout",
     "output_type": "stream",
     "text": [
      "['.anaconda', '.android', '.bash_history', '.cisco', '.conda', '.condarc', '.continuum', '.docker', '.ipynb_checkpoints', '.ipython', '.jupyter', '.lesshst', '.m2', '.ms-ad', '.vscode', '.vscode-cli', '3D Objects', 'AppData', 'Application Data', 'Contacts', 'Cookies', 'datetime-module.ipynb', 'Desktop', 'Documents', 'Downloads', 'Favorites', 'IdeaProjects', 'IntelGraphicsProfiles', 'Jupiter Notebooks', 'Links', 'Local Settings', 'Music', 'My Documents', 'NetHood', 'NTUSER.DAT', 'ntuser.dat.LOG1', 'ntuser.dat.LOG2', 'NTUSER.DAT{53b39e88-18c4-11ea-a811-000d3aa4692b}.TM.blf', 'NTUSER.DAT{53b39e88-18c4-11ea-a811-000d3aa4692b}.TMContainer00000000000000000001.regtrans-ms', 'NTUSER.DAT{53b39e88-18c4-11ea-a811-000d3aa4692b}.TMContainer00000000000000000002.regtrans-ms', 'ntuser.ini', 'OneDrive', 'Pictures', 'Postman', 'PrintHood', 'PycharmProjects', 'Recent', 'Saved Games', 'Searches', 'SendTo', 'Start Menu', 'Templates', 'Tracing', 'Videos', 'VsCode']\n"
     ]
    }
   ],
   "source": [
    "print(os.listdir(\"../\"))"
   ]
  },
  {
   "cell_type": "code",
   "execution_count": 18,
   "id": "bd09c054",
   "metadata": {},
   "outputs": [
    {
     "ename": "SyntaxError",
     "evalue": "invalid syntax (1846301527.py, line 1)",
     "output_type": "error",
     "traceback": [
      "\u001b[1;36m  Cell \u001b[1;32mIn[18], line 1\u001b[1;36m\u001b[0m\n\u001b[1;33m    Trajno brisanje je prikazano u nastavku. Za premještanje u kantu za smeće instalirati i koristiti send2trash paket.\u001b[0m\n\u001b[1;37m           ^\u001b[0m\n\u001b[1;31mSyntaxError\u001b[0m\u001b[1;31m:\u001b[0m invalid syntax\n"
     ]
    }
   ],
   "source": [
    "Trajno brisanje je prikazano u nastavku. Za premještanje u kantu za smeće instalirati i koristiti send2trash paket."
   ]
  },
  {
   "cell_type": "code",
   "execution_count": 19,
   "id": "b6fa8894",
   "metadata": {},
   "outputs": [
    {
     "ename": "FileNotFoundError",
     "evalue": "[WinError 2] The system cannot find the file specified: 'file to delete'",
     "output_type": "error",
     "traceback": [
      "\u001b[1;31m---------------------------------------------------------------------------\u001b[0m",
      "\u001b[1;31mFileNotFoundError\u001b[0m                         Traceback (most recent call last)",
      "Cell \u001b[1;32mIn[19], line 1\u001b[0m\n\u001b[1;32m----> 1\u001b[0m os\u001b[38;5;241m.\u001b[39munlink(\u001b[38;5;124m\"\u001b[39m\u001b[38;5;124mfile to delete\u001b[39m\u001b[38;5;124m\"\u001b[39m)\n\u001b[0;32m      2\u001b[0m os\u001b[38;5;241m.\u001b[39mrmdir(\u001b[38;5;124m\"\u001b[39m\u001b[38;5;124mempty dir to delete\u001b[39m\u001b[38;5;124m\"\u001b[39m)\n\u001b[0;32m      3\u001b[0m os\u001b[38;5;241m.\u001b[39mrmtree(\u001b[38;5;124m\"\u001b[39m\u001b[38;5;124mdir to delete\u001b[39m\u001b[38;5;124m\"\u001b[39m)\n",
      "\u001b[1;31mFileNotFoundError\u001b[0m: [WinError 2] The system cannot find the file specified: 'file to delete'"
     ]
    }
   ],
   "source": [
    "os.unlink(\"file to delete\")\n",
    "os.rmdir(\"empty dir to delete\")\n",
    "os.rmtree(\"dir to delete\")"
   ]
  },
  {
   "cell_type": "code",
   "execution_count": 20,
   "id": "842e7a2f",
   "metadata": {},
   "outputs": [
    {
     "ename": "FileNotFoundError",
     "evalue": "[Errno 2] No such file or directory: 'old path'",
     "output_type": "error",
     "traceback": [
      "\u001b[1;31m---------------------------------------------------------------------------\u001b[0m",
      "\u001b[1;31mFileNotFoundError\u001b[0m                         Traceback (most recent call last)",
      "File \u001b[1;32m~\\AppData\\Local\\anaconda3\\Lib\\shutil.py:825\u001b[0m, in \u001b[0;36mmove\u001b[1;34m(src, dst, copy_function)\u001b[0m\n\u001b[0;32m    824\u001b[0m \u001b[38;5;28;01mtry\u001b[39;00m:\n\u001b[1;32m--> 825\u001b[0m     os\u001b[38;5;241m.\u001b[39mrename(src, real_dst)\n\u001b[0;32m    826\u001b[0m \u001b[38;5;28;01mexcept\u001b[39;00m \u001b[38;5;167;01mOSError\u001b[39;00m:\n",
      "\u001b[1;31mFileNotFoundError\u001b[0m: [WinError 2] The system cannot find the file specified: 'old path' -> 'new path'",
      "\nDuring handling of the above exception, another exception occurred:\n",
      "\u001b[1;31mFileNotFoundError\u001b[0m                         Traceback (most recent call last)",
      "Cell \u001b[1;32mIn[20], line 2\u001b[0m\n\u001b[0;32m      1\u001b[0m \u001b[38;5;28;01mimport\u001b[39;00m \u001b[38;5;21;01mshutil\u001b[39;00m\n\u001b[1;32m----> 2\u001b[0m shutil\u001b[38;5;241m.\u001b[39mmove(\u001b[38;5;124m\"\u001b[39m\u001b[38;5;124mold path\u001b[39m\u001b[38;5;124m\"\u001b[39m,\u001b[38;5;124m\"\u001b[39m\u001b[38;5;124mnew path\u001b[39m\u001b[38;5;124m\"\u001b[39m)\n",
      "File \u001b[1;32m~\\AppData\\Local\\anaconda3\\Lib\\shutil.py:845\u001b[0m, in \u001b[0;36mmove\u001b[1;34m(src, dst, copy_function)\u001b[0m\n\u001b[0;32m    843\u001b[0m         rmtree(src)\n\u001b[0;32m    844\u001b[0m     \u001b[38;5;28;01melse\u001b[39;00m:\n\u001b[1;32m--> 845\u001b[0m         copy_function(src, real_dst)\n\u001b[0;32m    846\u001b[0m         os\u001b[38;5;241m.\u001b[39munlink(src)\n\u001b[0;32m    847\u001b[0m \u001b[38;5;28;01mreturn\u001b[39;00m real_dst\n",
      "File \u001b[1;32m~\\AppData\\Local\\anaconda3\\Lib\\shutil.py:436\u001b[0m, in \u001b[0;36mcopy2\u001b[1;34m(src, dst, follow_symlinks)\u001b[0m\n\u001b[0;32m    434\u001b[0m \u001b[38;5;28;01mif\u001b[39;00m os\u001b[38;5;241m.\u001b[39mpath\u001b[38;5;241m.\u001b[39misdir(dst):\n\u001b[0;32m    435\u001b[0m     dst \u001b[38;5;241m=\u001b[39m os\u001b[38;5;241m.\u001b[39mpath\u001b[38;5;241m.\u001b[39mjoin(dst, os\u001b[38;5;241m.\u001b[39mpath\u001b[38;5;241m.\u001b[39mbasename(src))\n\u001b[1;32m--> 436\u001b[0m copyfile(src, dst, follow_symlinks\u001b[38;5;241m=\u001b[39mfollow_symlinks)\n\u001b[0;32m    437\u001b[0m copystat(src, dst, follow_symlinks\u001b[38;5;241m=\u001b[39mfollow_symlinks)\n\u001b[0;32m    438\u001b[0m \u001b[38;5;28;01mreturn\u001b[39;00m dst\n",
      "File \u001b[1;32m~\\AppData\\Local\\anaconda3\\Lib\\shutil.py:256\u001b[0m, in \u001b[0;36mcopyfile\u001b[1;34m(src, dst, follow_symlinks)\u001b[0m\n\u001b[0;32m    254\u001b[0m     os\u001b[38;5;241m.\u001b[39msymlink(os\u001b[38;5;241m.\u001b[39mreadlink(src), dst)\n\u001b[0;32m    255\u001b[0m \u001b[38;5;28;01melse\u001b[39;00m:\n\u001b[1;32m--> 256\u001b[0m     \u001b[38;5;28;01mwith\u001b[39;00m \u001b[38;5;28mopen\u001b[39m(src, \u001b[38;5;124m'\u001b[39m\u001b[38;5;124mrb\u001b[39m\u001b[38;5;124m'\u001b[39m) \u001b[38;5;28;01mas\u001b[39;00m fsrc:\n\u001b[0;32m    257\u001b[0m         \u001b[38;5;28;01mtry\u001b[39;00m:\n\u001b[0;32m    258\u001b[0m             \u001b[38;5;28;01mwith\u001b[39;00m \u001b[38;5;28mopen\u001b[39m(dst, \u001b[38;5;124m'\u001b[39m\u001b[38;5;124mwb\u001b[39m\u001b[38;5;124m'\u001b[39m) \u001b[38;5;28;01mas\u001b[39;00m fdst:\n\u001b[0;32m    259\u001b[0m                 \u001b[38;5;66;03m# macOS\u001b[39;00m\n",
      "\u001b[1;31mFileNotFoundError\u001b[0m: [Errno 2] No such file or directory: 'old path'"
     ]
    }
   ],
   "source": [
    "import shutil\n",
    "shutil.move(\"old path\",\"new path\")"
   ]
  },
  {
   "cell_type": "markdown",
   "id": "ebaeb3dd",
   "metadata": {},
   "source": [
    "Obilazak stabla direktorijuma"
   ]
  },
  {
   "cell_type": "code",
   "execution_count": 21,
   "id": "43d16ab0",
   "metadata": {},
   "outputs": [
    {
     "name": "stdout",
     "output_type": "stream",
     "text": [
      "Current folder: C:\\Users\\ztripic\\Jupiter Notebooks\n",
      "Subfolders: ['.ipynb_checkpoints']\n",
      "Files: ['07-Statements Assessment Test.ipynb', 'collections-module.ipynb', 'data_types.ipynb', 'datetime&time&timeit.ipynb', 'file.txt', 'flow_control.ipynb', 'functions.ipynb', 'io.ipynb', 'math&random.ipynb', 'misc.ipynb', 'oop.ipynb', 'problems.ipynb', 'regex.ipynb']\n",
      "Current folder: C:\\Users\\ztripic\\Jupiter Notebooks\\.ipynb_checkpoints\n",
      "Subfolders: []\n",
      "Files: ['07-Statements Assessment Test-checkpoint.ipynb', 'collections-module-checkpoint.ipynb', 'data_types-checkpoint.ipynb', 'datetime&time&timeit-checkpoint.ipynb', 'flow_control-checkpoint.ipynb', 'functions-checkpoint.ipynb', 'io-checkpoint.ipynb', 'math&random-checkpoint.ipynb', 'misc-checkpoint.ipynb', 'oop-checkpoint.ipynb', 'problems-checkpoint.ipynb', 'regex-checkpoint.ipynb']\n"
     ]
    }
   ],
   "source": [
    "for folder,subfolders,files in os.walk(os.getcwd()):\n",
    "    print(\"Current folder: \"+folder)\n",
    "    print(\"Subfolders: \"+str(subfolders))\n",
    "    print(\"Files: \"+str(files))"
   ]
  },
  {
   "cell_type": "markdown",
   "id": "ff9cc0e2",
   "metadata": {},
   "source": [
    "U nastavku je prikazano kreiranje zip fajla, kompresija sadržaja 2 fajla u zip fajl. Otpakivanje krerianog zip fajla u specifikovani folder - dobiju se 2 početna fajla. "
   ]
  },
  {
   "cell_type": "code",
   "execution_count": 31,
   "id": "0ca0694d",
   "metadata": {},
   "outputs": [],
   "source": [
    "import zipfile\n",
    "zipped=zipfile.ZipFile(\"zipped\",\"w\")\n",
    "zipped.write(\"tozip1.txt\",compress_type=zipfile.ZIP_DEFLATED)\n",
    "zipped.write(\"tozip2.txt\",compress_type=zipfile.ZIP_DEFLATED)\n",
    "zipped.close()\n",
    "zipped=zipfile.ZipFile(\"zipped\",\"r\")\n",
    "zipped.extractall(\"extracted\")"
   ]
  },
  {
   "cell_type": "code",
   "execution_count": null,
   "id": "4a953faf",
   "metadata": {},
   "outputs": [],
   "source": [
    "shutil.make_archive(\"zipped\",\"zip\",\"directory to zip\")\n",
    "shutil.unpack_archive(\"extracted\",\"zipped\",\"zip\")"
   ]
  },
  {
   "cell_type": "code",
   "execution_count": 25,
   "id": "d99c94c2",
   "metadata": {},
   "outputs": [
    {
     "data": {
      "text/plain": [
       "'C:\\\\Users\\\\ztripic\\\\Jupiter Notebooks\\\\file.txt'"
      ]
     },
     "execution_count": 25,
     "metadata": {},
     "output_type": "execute_result"
    }
   ],
   "source": [
    "os.path.join(os.getcwd(),\"file.txt\")"
   ]
  }
 ],
 "metadata": {
  "kernelspec": {
   "display_name": "Python 3 (ipykernel)",
   "language": "python",
   "name": "python3"
  },
  "language_info": {
   "codemirror_mode": {
    "name": "ipython",
    "version": 3
   },
   "file_extension": ".py",
   "mimetype": "text/x-python",
   "name": "python",
   "nbconvert_exporter": "python",
   "pygments_lexer": "ipython3",
   "version": "3.11.5"
  }
 },
 "nbformat": 4,
 "nbformat_minor": 5
}
