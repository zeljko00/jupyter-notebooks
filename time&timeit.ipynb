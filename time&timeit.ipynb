{
 "cells": [
  {
   "cell_type": "code",
   "execution_count": 27,
   "id": "fea2befc",
   "metadata": {},
   "outputs": [],
   "source": [
    "import time"
   ]
  },
  {
   "cell_type": "markdown",
   "id": "f862033f",
   "metadata": {},
   "source": [
    "time.time() vraća broj sekundi proteklih od 1970"
   ]
  },
  {
   "cell_type": "code",
   "execution_count": 30,
   "id": "9c7357ba",
   "metadata": {},
   "outputs": [
    {
     "name": "stdout",
     "output_type": "stream",
     "text": [
      "1700730524.5078979\n"
     ]
    }
   ],
   "source": [
    "print(time.time())"
   ]
  },
  {
   "cell_type": "code",
   "execution_count": 32,
   "id": "da74cddf",
   "metadata": {},
   "outputs": [
    {
     "name": "stdout",
     "output_type": "stream",
     "text": [
      "00:00:00\n"
     ]
    }
   ],
   "source": [
    "print(datetime.time())"
   ]
  },
  {
   "cell_type": "code",
   "execution_count": 36,
   "id": "e286cb69",
   "metadata": {},
   "outputs": [
    {
     "data": {
      "text/plain": [
       "0.4336697000544518"
      ]
     },
     "execution_count": 36,
     "metadata": {},
     "output_type": "execute_result"
    }
   ],
   "source": [
    "import timeit\n",
    "setup=''' \n",
    "def add(n):\n",
    "    return sum([i for i in range(n)])\n",
    "'''\n",
    "statement='''\n",
    "add(100000)\n",
    "'''\n",
    "timeit.timeit(statement,setup,number=100)"
   ]
  },
  {
   "cell_type": "code",
   "execution_count": null,
   "id": "1ee20e2f",
   "metadata": {},
   "outputs": [],
   "source": []
  }
 ],
 "metadata": {
  "kernelspec": {
   "display_name": "Python 3 (ipykernel)",
   "language": "python",
   "name": "python3"
  },
  "language_info": {
   "codemirror_mode": {
    "name": "ipython",
    "version": 3
   },
   "file_extension": ".py",
   "mimetype": "text/x-python",
   "name": "python",
   "nbconvert_exporter": "python",
   "pygments_lexer": "ipython3",
   "version": "3.11.5"
  }
 },
 "nbformat": 4,
 "nbformat_minor": 5
}
