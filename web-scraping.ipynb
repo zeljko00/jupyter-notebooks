{
 "cells": [
  {
   "cell_type": "markdown",
   "id": "eb1f4c1b",
   "metadata": {},
   "source": [
    "# Web scraping\n",
    "Potrebni su requests, lxml i bs4 paketi."
   ]
  },
  {
   "cell_type": "code",
   "execution_count": 3,
   "id": "7d21827d",
   "metadata": {},
   "outputs": [],
   "source": [
    "import requests\n",
    "import lxml\n",
    "import bs4"
   ]
  },
  {
   "cell_type": "code",
   "execution_count": 16,
   "id": "72d25df5",
   "metadata": {},
   "outputs": [],
   "source": [
    "response= requests.get(\"https://sr.wikipedia.org/sr-ec/%D0%9D%D0%B8%D0%BA%D0%BE%D0%BB%D0%B0_%D0%88%D0%BE%D0%BA%D0%B8%D1%9B\")\n",
    "soup=bs4.BeautifulSoup(response.text,\"lxml\")\n",
    "url=soup.select(\".mw-file-element\")[1][\"src\"]\n",
    "soup.select(\"div\")\n",
    "soup.select(\"#id\")\n",
    "soup.select(\"div p\")\n",
    "soup.select(\"div > p\")\n",
    "image_data=requests.get(\"http://upload.wikimedia.org/wikipedia/commons/thumb/7/7e/Nikola_Jokic_free_throw_%28cropped%29.jpg/220px-Nikola_Jokic_free_throw_%28cropped%29.jpg\")\n",
    "with open(\"jokic.jpg\",\"wb\") as file:\n",
    "    file.write(image_data.content)"
   ]
  },
  {
   "cell_type": "markdown",
   "id": "3a35c880",
   "metadata": {},
   "source": [
    "<img src=\"jokic.jpg\" />"
   ]
  },
  {
   "cell_type": "code",
   "execution_count": null,
   "id": "87abd081",
   "metadata": {},
   "outputs": [],
   "source": []
  }
 ],
 "metadata": {
  "kernelspec": {
   "display_name": "Python 3 (ipykernel)",
   "language": "python",
   "name": "python3"
  },
  "language_info": {
   "codemirror_mode": {
    "name": "ipython",
    "version": 3
   },
   "file_extension": ".py",
   "mimetype": "text/x-python",
   "name": "python",
   "nbconvert_exporter": "python",
   "pygments_lexer": "ipython3",
   "version": "3.11.5"
  }
 },
 "nbformat": 4,
 "nbformat_minor": 5
}
