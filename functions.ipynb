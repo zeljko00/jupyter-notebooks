{
 "cells": [
  {
   "cell_type": "markdown",
   "id": "0a973953",
   "metadata": {},
   "source": [
    "# Funkcije\n"
   ]
  },
  {
   "cell_type": "code",
   "execution_count": 1,
   "id": "e7454c12",
   "metadata": {},
   "outputs": [
    {
     "name": "stdout",
     "output_type": "stream",
     "text": [
      "Help on built-in function pop:\n",
      "\n",
      "pop(index=-1, /) method of builtins.list instance\n",
      "    Remove and return item at index (default last).\n",
      "    \n",
      "    Raises IndexError if list is empty or index is out of range.\n",
      "\n"
     ]
    }
   ],
   "source": [
    "help(list().pop)"
   ]
  },
  {
   "cell_type": "code",
   "execution_count": 2,
   "id": "dd669fab",
   "metadata": {},
   "outputs": [
    {
     "name": "stdout",
     "output_type": "stream",
     "text": [
      "1\n",
      "10\n"
     ]
    }
   ],
   "source": [
    "def func1(arg=10):\n",
    "    print(arg)\n",
    "func1(1)\n",
    "func1(10)"
   ]
  },
  {
   "cell_type": "markdown",
   "id": "75da347e",
   "metadata": {},
   "source": [
    "Argumenti koji imaju specifikovanu podrazumijevanu vrijednost se moraju naći na kraju liste!"
   ]
  },
  {
   "cell_type": "code",
   "execution_count": 21,
   "id": "0e592e66",
   "metadata": {},
   "outputs": [
    {
     "ename": "SyntaxError",
     "evalue": "non-default argument follows default argument (1782730955.py, line 1)",
     "output_type": "error",
     "traceback": [
      "\u001b[1;36m  Cell \u001b[1;32mIn[21], line 1\u001b[1;36m\u001b[0m\n\u001b[1;33m    def func11(arg1=10,arg2):\u001b[0m\n\u001b[1;37m                       ^\u001b[0m\n\u001b[1;31mSyntaxError\u001b[0m\u001b[1;31m:\u001b[0m non-default argument follows default argument\n"
     ]
    }
   ],
   "source": [
    "def func11(arg1=10,arg2):\n",
    "    pass"
   ]
  },
  {
   "cell_type": "code",
   "execution_count": 10,
   "id": "12ffea89",
   "metadata": {},
   "outputs": [
    {
     "name": "stdout",
     "output_type": "stream",
     "text": [
      "a=1 b=2\n",
      "a=2 b=1\n",
      "a=1 b=2\n"
     ]
    }
   ],
   "source": [
    "def func2(a,b):\n",
    "    print(\"a=\"+str(a)+\" b=\"+str(b))\n",
    "func2(1,2)\n",
    "func2(b=1,a=2)\n",
    "func2(1,b=2)\n"
   ]
  },
  {
   "cell_type": "markdown",
   "id": "5e026a6d",
   "metadata": {},
   "source": [
    "Pozicioni argumenti se moraju proslijediti funkciji prije imenovanih!"
   ]
  },
  {
   "cell_type": "code",
   "execution_count": 11,
   "id": "0fd08fde",
   "metadata": {},
   "outputs": [
    {
     "ename": "SyntaxError",
     "evalue": "positional argument follows keyword argument (2629673212.py, line 1)",
     "output_type": "error",
     "traceback": [
      "\u001b[1;36m  Cell \u001b[1;32mIn[11], line 1\u001b[1;36m\u001b[0m\n\u001b[1;33m    func2(b=1,2)\u001b[0m\n\u001b[1;37m               ^\u001b[0m\n\u001b[1;31mSyntaxError\u001b[0m\u001b[1;31m:\u001b[0m positional argument follows keyword argument\n"
     ]
    }
   ],
   "source": [
    "func2(b=1,2)"
   ]
  },
  {
   "cell_type": "markdown",
   "id": "6f50499c",
   "metadata": {},
   "source": [
    "Funkcija može da primi proizvoljan broj pozicionih argumenata. Ne mora se nužno koristiti args naziv."
   ]
  },
  {
   "cell_type": "code",
   "execution_count": 14,
   "id": "ab289361",
   "metadata": {},
   "outputs": [
    {
     "name": "stdout",
     "output_type": "stream",
     "text": [
      "(1,)\n",
      "<class 'tuple'>\n",
      "(3, 'four')\n",
      "<class 'tuple'>\n",
      "()\n",
      "<class 'tuple'>\n"
     ]
    }
   ],
   "source": [
    "def func3(*args):\n",
    "    print(args)\n",
    "    print(type(args))\n",
    "func3(1)\n",
    "func3(3,\"four\")\n",
    "func3()\n"
   ]
  },
  {
   "cell_type": "markdown",
   "id": "ca73546b",
   "metadata": {},
   "source": [
    "Funkcija može da primi proizvoljan broj imenovanih argumenata. Ne mora se nužno koristiti kwargs naziv."
   ]
  },
  {
   "cell_type": "code",
   "execution_count": 16,
   "id": "b4e4acbe",
   "metadata": {},
   "outputs": [
    {
     "name": "stdout",
     "output_type": "stream",
     "text": [
      "{}\n",
      "<class 'dict'>\n",
      "{'name': 'marko'}\n",
      "<class 'dict'>\n",
      "{'name': 'marko', 'id': 1234}\n",
      "<class 'dict'>\n"
     ]
    }
   ],
   "source": [
    "def func4(**kwargs):\n",
    "    print(kwargs)\n",
    "    print(type(kwargs))\n",
    "func4()\n",
    "func4(name=\"marko\")\n",
    "func4(name=\"marko\",id=1234)"
   ]
  },
  {
   "cell_type": "code",
   "execution_count": 18,
   "id": "141bab03",
   "metadata": {},
   "outputs": [
    {
     "name": "stdout",
     "output_type": "stream",
     "text": [
      "(1, 2, 'Hello')\n",
      "{'name': 'marko'}\n"
     ]
    }
   ],
   "source": [
    "def func5(*args,**kwargs):\n",
    "    print(args)\n",
    "    print(kwargs)\n",
    "func5(1,2,\"Hello\",name=\"marko\")"
   ]
  },
  {
   "cell_type": "markdown",
   "id": "7632729d",
   "metadata": {},
   "source": [
    "Prvo se moraju proslijediti imenovani argumenti!"
   ]
  },
  {
   "cell_type": "code",
   "execution_count": 19,
   "id": "8345c87d",
   "metadata": {},
   "outputs": [
    {
     "ename": "SyntaxError",
     "evalue": "positional argument follows keyword argument (3897537611.py, line 1)",
     "output_type": "error",
     "traceback": [
      "\u001b[1;36m  Cell \u001b[1;32mIn[19], line 1\u001b[1;36m\u001b[0m\n\u001b[1;33m    func5(name=\"marko\",1,\"Hello\")\u001b[0m\n\u001b[1;37m                                ^\u001b[0m\n\u001b[1;31mSyntaxError\u001b[0m\u001b[1;31m:\u001b[0m positional argument follows keyword argument\n"
     ]
    }
   ],
   "source": [
    "func5(name=\"marko\",1,\"Hello\")"
   ]
  },
  {
   "cell_type": "markdown",
   "id": "2988d3d8",
   "metadata": {},
   "source": [
    "Pozicioni argumenti se moraju i deklarisati prije imenovanih!"
   ]
  },
  {
   "cell_type": "code",
   "execution_count": 20,
   "id": "fce1d55c",
   "metadata": {},
   "outputs": [
    {
     "ename": "SyntaxError",
     "evalue": "arguments cannot follow var-keyword argument (3540847283.py, line 1)",
     "output_type": "error",
     "traceback": [
      "\u001b[1;36m  Cell \u001b[1;32mIn[20], line 1\u001b[1;36m\u001b[0m\n\u001b[1;33m    def func6(**kwargs,*args):\u001b[0m\n\u001b[1;37m                       ^\u001b[0m\n\u001b[1;31mSyntaxError\u001b[0m\u001b[1;31m:\u001b[0m arguments cannot follow var-keyword argument\n"
     ]
    }
   ],
   "source": [
    "def func6(**kwargs,*args):\n",
    "    pass"
   ]
  },
  {
   "cell_type": "code",
   "execution_count": 27,
   "id": "1f9a2cf0",
   "metadata": {},
   "outputs": [
    {
     "ename": "SyntaxError",
     "evalue": "invalid syntax (2126074519.py, line 2)",
     "output_type": "error",
     "traceback": [
      "\u001b[1;36m  Cell \u001b[1;32mIn[27], line 2\u001b[1;36m\u001b[0m\n\u001b[1;33m    return \"\".join([char.upper() for index,char in enumerate(s) if index%2==0] else char )\u001b[0m\n\u001b[1;37m                                                                               ^\u001b[0m\n\u001b[1;31mSyntaxError\u001b[0m\u001b[1;31m:\u001b[0m invalid syntax\n"
     ]
    }
   ],
   "source": [
    "def myfunc(s):\n",
    "    return \"\".join([char.upper() for index,char in enumerate(s) if index%2==0] else char )\n",
    "myfunc(\"jdhfjudhf\")"
   ]
  },
  {
   "cell_type": "markdown",
   "id": "579d9277",
   "metadata": {},
   "source": [
    "Ugrađene funkcije map i filter vraćaju iterator!"
   ]
  },
  {
   "cell_type": "code",
   "execution_count": 32,
   "id": "76162b12",
   "metadata": {},
   "outputs": [
    {
     "name": "stdout",
     "output_type": "stream",
     "text": [
      "<map object at 0x000001FC4E852FE0>\n",
      "[0, 2, 4, 6, 'fourfour', '']\n"
     ]
    }
   ],
   "source": [
    "def map_func(x):\n",
    "    return x*2\n",
    "l=[0,1,2,3,\"four\",\"\"]\n",
    "iterator=map(map_func,l)\n",
    "print(iterator)\n",
    "print(list(iterator))"
   ]
  },
  {
   "cell_type": "code",
   "execution_count": 35,
   "id": "46beb78b",
   "metadata": {},
   "outputs": [
    {
     "name": "stdout",
     "output_type": "stream",
     "text": [
      "<filter object at 0x000001FC4E853190>\n",
      "[1]\n",
      "<filter object at 0x000001FC4E8539A0>\n",
      "[1, 2, 3, 'four']\n"
     ]
    }
   ],
   "source": [
    "def filter_func1(x):\n",
    "    return x==True\n",
    "def filter_func2(x):\n",
    "    return bool(x)\n",
    "iterator1=filter(filter_func1,l)\n",
    "print(iterator1)\n",
    "print(list(iterator1))\n",
    "iterator2=filter(filter_func2,l)\n",
    "print(iterator2)\n",
    "print(list(iterator2))\n"
   ]
  },
  {
   "cell_type": "markdown",
   "id": "d570cd35",
   "metadata": {},
   "source": [
    "## Lambda funkcije\n",
    "Omogućavaju kreiranje anonimnih ad-hoc funkcija čija je logika ograničena na jedan iskaz. Lambda izrazi vraćaju objekat funkcije. Kod standardne definicije upotrebom def ključne riječi objekat funkcije se dodjeljuje varijabli čiji naziv odgovara nazivu funkcije. Prilikom vraćanja rezultata ne koristi se return!"
   ]
  },
  {
   "cell_type": "code",
   "execution_count": 38,
   "id": "c8dcdeb6",
   "metadata": {},
   "outputs": [],
   "source": [
    "def simple_sum(x,y): return x+y\n"
   ]
  },
  {
   "cell_type": "code",
   "execution_count": 39,
   "id": "ee9e51cf",
   "metadata": {},
   "outputs": [
    {
     "name": "stdout",
     "output_type": "stream",
     "text": [
      "<function <lambda> at 0x000001FC4F3B1800>\n"
     ]
    }
   ],
   "source": [
    "lambda_fun=lambda x,y: x+y\n",
    "print(lambda_fun)"
   ]
  },
  {
   "cell_type": "code",
   "execution_count": 40,
   "id": "94a99a4c",
   "metadata": {},
   "outputs": [
    {
     "name": "stdout",
     "output_type": "stream",
     "text": [
      "['aaa', 'bbb', 'ccc']\n"
     ]
    }
   ],
   "source": [
    "print(list(map(lambda x: x*3,\"abc\")))"
   ]
  },
  {
   "cell_type": "markdown",
   "id": "37304b2e",
   "metadata": {},
   "source": [
    "Ukoliko želimo da unutar tijela fje mijenjamo vrijednost varijable iz okružujećeg opsega, potrebno je da koristimo global. Pristup (čitanje vrijednosti, pristup atributima...) je moguć i bez global ključne riječi, ali nije čitljivo (clean code) "
   ]
  },
  {
   "cell_type": "code",
   "execution_count": 44,
   "id": "e63e2ff3",
   "metadata": {},
   "outputs": [
    {
     "name": "stdout",
     "output_type": "stream",
     "text": [
      "1\n",
      "2\n"
     ]
    }
   ],
   "source": [
    "x=1\n",
    "print(x)\n",
    "def func_global():\n",
    "    global x\n",
    "    x+=1\n",
    "func_global()\n",
    "print(x)"
   ]
  },
  {
   "cell_type": "markdown",
   "id": "c6f22a41",
   "metadata": {},
   "source": [
    "## Dekoratori\n",
    "Funkcije koje omogućavaju dodavanje logike postojećim funkcijama bez izmjene njihovog izvornog koda. Ideja je unutar dekoratora kreirati enclosure (lokalnu) fju koja će implementirati dodatnu logiku i unutar svoje logike pozvati postojeću funkciju (wraping) koja je dekoratoru poslata kao parametar. Na kraju dekorator vrata objekat lokalne fje koja ustvari predstavlja wrap-anu postojeću funkciju."
   ]
  },
  {
   "cell_type": "code",
   "execution_count": 3,
   "id": "8491e8d7",
   "metadata": {},
   "outputs": [
    {
     "name": "stdout",
     "output_type": "stream",
     "text": [
      "Additional logic before existing func!\n",
      "Simple function 1!\n",
      "Additional logic after existing function!\n",
      "Additional logic before existing func!\n",
      "Simple function 2!\n",
      "Additional logic after existing function!\n"
     ]
    }
   ],
   "source": [
    "def decorator(func):\n",
    "    def wrap_func():\n",
    "        print(\"Additional logic before existing func!\")\n",
    "        func()\n",
    "        print(\"Additional logic after existing function!\")\n",
    "    \n",
    "    return wrap_func\n",
    "\n",
    "def function1():\n",
    "    print(\"Simple function 1!\")\n",
    "@decorator\n",
    "def function2():\n",
    "    print(\"Simple function 2!\")\n",
    "decorator(function1)()\n",
    "function2()"
   ]
  },
  {
   "cell_type": "code",
   "execution_count": null,
   "id": "ddad5b52",
   "metadata": {},
   "outputs": [],
   "source": []
  }
 ],
 "metadata": {
  "kernelspec": {
   "display_name": "Python 3 (ipykernel)",
   "language": "python",
   "name": "python3"
  },
  "language_info": {
   "codemirror_mode": {
    "name": "ipython",
    "version": 3
   },
   "file_extension": ".py",
   "mimetype": "text/x-python",
   "name": "python",
   "nbconvert_exporter": "python",
   "pygments_lexer": "ipython3",
   "version": "3.11.5"
  }
 },
 "nbformat": 4,
 "nbformat_minor": 5
}
