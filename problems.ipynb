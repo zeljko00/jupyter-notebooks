{
 "cells": [
  {
   "cell_type": "code",
   "execution_count": 1,
   "id": "e61ab49b",
   "metadata": {},
   "outputs": [
    {
     "data": {
      "text/plain": [
       "'ZelJko'"
      ]
     },
     "execution_count": 1,
     "metadata": {},
     "output_type": "execute_result"
    }
   ],
   "source": [
    "s=\"zeljko\"\n",
    "\n",
    "def my_func(s):\n",
    "    if len(s)<4:\n",
    "        return s\n",
    "    else:\n",
    "        return s[:3].capitalize()+s[3:].capitalize()\n",
    "my_func(s)"
   ]
  },
  {
   "cell_type": "code",
   "execution_count": 5,
   "id": "9b05e16a",
   "metadata": {},
   "outputs": [
    {
     "data": {
      "text/plain": [
       "'name a of letters fourth and first the capitalizes that function a Write'"
      ]
     },
     "execution_count": 5,
     "metadata": {},
     "output_type": "execute_result"
    }
   ],
   "source": [
    "s=\"Write a function that capitalizes the first and fourth letters of a name\"\n",
    "def my_func(s):\n",
    "    return \" \".join(s.split()[::-1])\n",
    "my_func(s)"
   ]
  },
  {
   "cell_type": "code",
   "execution_count": 9,
   "id": "fead043c",
   "metadata": {},
   "outputs": [
    {
     "data": {
      "text/plain": [
       "'HHHeeellllllooo'"
      ]
     },
     "execution_count": 9,
     "metadata": {},
     "output_type": "execute_result"
    }
   ],
   "source": [
    "s=\"Hello\"\n",
    "def my_func(s):\n",
    "    return \"\".join([c*3 for c in list(s)])\n",
    "my_func(s)"
   ]
  },
  {
   "cell_type": "code",
   "execution_count": 5,
   "id": "af9e6804",
   "metadata": {},
   "outputs": [
    {
     "data": {
      "text/plain": [
       "True"
      ]
     },
     "execution_count": 5,
     "metadata": {},
     "output_type": "execute_result"
    }
   ],
   "source": [
    "ints=[1,2,3,5,6,3,3,9]\n",
    "def my_func(l):\n",
    "    for i in range(len(l)):\n",
    "        if l[i]==3 and i<len(l)-1 and l[i+1]==3:\n",
    "            return True\n",
    "    return False\n",
    "my_func(ints)"
   ]
  },
  {
   "cell_type": "code",
   "execution_count": 29,
   "id": "5b84116e",
   "metadata": {},
   "outputs": [
    {
     "data": {
      "text/plain": [
       "17"
      ]
     },
     "execution_count": 29,
     "metadata": {},
     "output_type": "execute_result"
    }
   ],
   "source": [
    "def my_func(a,b,c):\n",
    "    sum=a+b+c\n",
    "    if sum<21:\n",
    "        return sum\n",
    "    elif a==11 or b==11 or c==11:\n",
    "        sum-=10\n",
    "    if sum<21:\n",
    "        return sum\n",
    "    else:\n",
    "        return \"BUST\"\n",
    "my_func(10,11,6)"
   ]
  },
  {
   "cell_type": "code",
   "execution_count": 2,
   "id": "c623da53",
   "metadata": {},
   "outputs": [
    {
     "data": {
      "text/plain": [
       "28"
      ]
     },
     "execution_count": 2,
     "metadata": {},
     "output_type": "execute_result"
    }
   ],
   "source": [
    "l=[1,5,2,8,6,67,4,2,9,11,1]\n",
    "def my_func(l):\n",
    "    six_found=False\n",
    "    sum=0\n",
    "    for i in l:\n",
    "        if i==6:\n",
    "            six_found=True\n",
    "        elif six_found and i==9:\n",
    "            six_found=False\n",
    "        elif not six_found:\n",
    "            sum+=i\n",
    "    return sum\n",
    "my_func(l)\n",
    "        "
   ]
  },
  {
   "cell_type": "code",
   "execution_count": 12,
   "id": "40169a9d",
   "metadata": {},
   "outputs": [
    {
     "data": {
      "text/plain": [
       "True"
      ]
     },
     "execution_count": 12,
     "metadata": {},
     "output_type": "execute_result"
    }
   ],
   "source": [
    "l=[2,4,0,11,5,0,0,7,4,2,43]\n",
    "def my_func(l):\n",
    "    d=len(l)\n",
    "    for i in range(d):\n",
    "        if l[i]==0 and i<d-2 and l[i+1]==0 and l[i+2]==7:\n",
    "                   return True\n",
    "    return False\n",
    "my_func(l)\n",
    "     "
   ]
  },
  {
   "cell_type": "code",
   "execution_count": 13,
   "id": "12ea8623",
   "metadata": {},
   "outputs": [
    {
     "data": {
      "text/plain": [
       "[1, 2, 3, 4, 11]"
      ]
     },
     "execution_count": 13,
     "metadata": {},
     "output_type": "execute_result"
    }
   ],
   "source": [
    "l=[1,2,3,4,1,4,11,3]\n",
    "def my_func(l):\n",
    "    return list(set(l))\n",
    "my_func(l)"
   ]
  },
  {
   "cell_type": "code",
   "execution_count": null,
   "id": "509c613a",
   "metadata": {},
   "outputs": [],
   "source": []
  }
 ],
 "metadata": {
  "kernelspec": {
   "display_name": "Python 3 (ipykernel)",
   "language": "python",
   "name": "python3"
  },
  "language_info": {
   "codemirror_mode": {
    "name": "ipython",
    "version": 3
   },
   "file_extension": ".py",
   "mimetype": "text/x-python",
   "name": "python",
   "nbconvert_exporter": "python",
   "pygments_lexer": "ipython3",
   "version": "3.11.5"
  }
 },
 "nbformat": 4,
 "nbformat_minor": 5
}
