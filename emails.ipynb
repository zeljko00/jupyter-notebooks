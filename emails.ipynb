{
 "cells": [
  {
   "cell_type": "markdown",
   "id": "4d503461",
   "metadata": {},
   "source": [
    "Ukoliko se koristi port 587, u pozadini se koristi tls -> mora se inicirati tls konekcija. Prazan rječnik ({}) je znak da je email uspješno poslat."
   ]
  },
  {
   "cell_type": "code",
   "execution_count": null,
   "id": "89ad29ff",
   "metadata": {},
   "outputs": [],
   "source": [
    "import smtplib\n",
    "smtp_server=smtplib.SMTP(\"hostname\",587)\n",
    "smtp_server.ehlo()\n",
    "smtp_server.starttls()\n",
    "smtp_server.login(user,app_password)\n",
    "msg=\"Subject: \"+\"SUBJECT\"+\"\\n\"+\"CONTENT\"\n",
    "smtp_server.sendemail(\"from\",\"to\",msg)\n",
    "smtp_server.quit()"
   ]
  },
  {
   "cell_type": "code",
   "execution_count": 1,
   "id": "bf13d94a",
   "metadata": {},
   "outputs": [
    {
     "ename": "gaierror",
     "evalue": "[Errno 11001] getaddrinfo failed",
     "output_type": "error",
     "traceback": [
      "\u001b[1;31m---------------------------------------------------------------------------\u001b[0m",
      "\u001b[1;31mgaierror\u001b[0m                                  Traceback (most recent call last)",
      "Cell \u001b[1;32mIn[1], line 2\u001b[0m\n\u001b[0;32m      1\u001b[0m \u001b[38;5;28;01mimport\u001b[39;00m \u001b[38;5;21;01mimaplib\u001b[39;00m\n\u001b[1;32m----> 2\u001b[0m imap_server\u001b[38;5;241m=\u001b[39mimaplib\u001b[38;5;241m.\u001b[39mIMAP4_SSL(\u001b[38;5;124m\"\u001b[39m\u001b[38;5;124mhostname\u001b[39m\u001b[38;5;124m\"\u001b[39m)\n\u001b[0;32m      3\u001b[0m imap_server\u001b[38;5;241m.\u001b[39mlogin(\u001b[38;5;124m\"\u001b[39m\u001b[38;5;124muser\u001b[39m\u001b[38;5;124m\"\u001b[39m,\u001b[38;5;124m\"\u001b[39m\u001b[38;5;124mpassword\u001b[39m\u001b[38;5;124m\"\u001b[39m)\n\u001b[0;32m      4\u001b[0m imap_server\u001b[38;5;241m.\u001b[39mlist()\n",
      "File \u001b[1;32m~\\AppData\\Local\\anaconda3\\Lib\\imaplib.py:1323\u001b[0m, in \u001b[0;36mIMAP4_SSL.__init__\u001b[1;34m(self, host, port, keyfile, certfile, ssl_context, timeout)\u001b[0m\n\u001b[0;32m   1320\u001b[0m     ssl_context \u001b[38;5;241m=\u001b[39m ssl\u001b[38;5;241m.\u001b[39m_create_stdlib_context(certfile\u001b[38;5;241m=\u001b[39mcertfile,\n\u001b[0;32m   1321\u001b[0m                                              keyfile\u001b[38;5;241m=\u001b[39mkeyfile)\n\u001b[0;32m   1322\u001b[0m \u001b[38;5;28mself\u001b[39m\u001b[38;5;241m.\u001b[39mssl_context \u001b[38;5;241m=\u001b[39m ssl_context\n\u001b[1;32m-> 1323\u001b[0m IMAP4\u001b[38;5;241m.\u001b[39m\u001b[38;5;21m__init__\u001b[39m(\u001b[38;5;28mself\u001b[39m, host, port, timeout)\n",
      "File \u001b[1;32m~\\AppData\\Local\\anaconda3\\Lib\\imaplib.py:202\u001b[0m, in \u001b[0;36mIMAP4.__init__\u001b[1;34m(self, host, port, timeout)\u001b[0m\n\u001b[0;32m    198\u001b[0m \u001b[38;5;28mself\u001b[39m\u001b[38;5;241m.\u001b[39m_mode_ascii()\n\u001b[0;32m    200\u001b[0m \u001b[38;5;66;03m# Open socket to server.\u001b[39;00m\n\u001b[1;32m--> 202\u001b[0m \u001b[38;5;28mself\u001b[39m\u001b[38;5;241m.\u001b[39mopen(host, port, timeout)\n\u001b[0;32m    204\u001b[0m \u001b[38;5;28;01mtry\u001b[39;00m:\n\u001b[0;32m    205\u001b[0m     \u001b[38;5;28mself\u001b[39m\u001b[38;5;241m.\u001b[39m_connect()\n",
      "File \u001b[1;32m~\\AppData\\Local\\anaconda3\\Lib\\imaplib.py:1336\u001b[0m, in \u001b[0;36mIMAP4_SSL.open\u001b[1;34m(self, host, port, timeout)\u001b[0m\n\u001b[0;32m   1330\u001b[0m \u001b[38;5;28;01mdef\u001b[39;00m \u001b[38;5;21mopen\u001b[39m(\u001b[38;5;28mself\u001b[39m, host\u001b[38;5;241m=\u001b[39m\u001b[38;5;124m'\u001b[39m\u001b[38;5;124m'\u001b[39m, port\u001b[38;5;241m=\u001b[39mIMAP4_SSL_PORT, timeout\u001b[38;5;241m=\u001b[39m\u001b[38;5;28;01mNone\u001b[39;00m):\n\u001b[0;32m   1331\u001b[0m \u001b[38;5;250m    \u001b[39m\u001b[38;5;124;03m\"\"\"Setup connection to remote server on \"host:port\".\u001b[39;00m\n\u001b[0;32m   1332\u001b[0m \u001b[38;5;124;03m        (default: localhost:standard IMAP4 SSL port).\u001b[39;00m\n\u001b[0;32m   1333\u001b[0m \u001b[38;5;124;03m    This connection will be used by the routines:\u001b[39;00m\n\u001b[0;32m   1334\u001b[0m \u001b[38;5;124;03m        read, readline, send, shutdown.\u001b[39;00m\n\u001b[0;32m   1335\u001b[0m \u001b[38;5;124;03m    \"\"\"\u001b[39;00m\n\u001b[1;32m-> 1336\u001b[0m     IMAP4\u001b[38;5;241m.\u001b[39mopen(\u001b[38;5;28mself\u001b[39m, host, port, timeout)\n",
      "File \u001b[1;32m~\\AppData\\Local\\anaconda3\\Lib\\imaplib.py:312\u001b[0m, in \u001b[0;36mIMAP4.open\u001b[1;34m(self, host, port, timeout)\u001b[0m\n\u001b[0;32m    310\u001b[0m \u001b[38;5;28mself\u001b[39m\u001b[38;5;241m.\u001b[39mhost \u001b[38;5;241m=\u001b[39m host\n\u001b[0;32m    311\u001b[0m \u001b[38;5;28mself\u001b[39m\u001b[38;5;241m.\u001b[39mport \u001b[38;5;241m=\u001b[39m port\n\u001b[1;32m--> 312\u001b[0m \u001b[38;5;28mself\u001b[39m\u001b[38;5;241m.\u001b[39msock \u001b[38;5;241m=\u001b[39m \u001b[38;5;28mself\u001b[39m\u001b[38;5;241m.\u001b[39m_create_socket(timeout)\n\u001b[0;32m    313\u001b[0m \u001b[38;5;28mself\u001b[39m\u001b[38;5;241m.\u001b[39mfile \u001b[38;5;241m=\u001b[39m \u001b[38;5;28mself\u001b[39m\u001b[38;5;241m.\u001b[39msock\u001b[38;5;241m.\u001b[39mmakefile(\u001b[38;5;124m'\u001b[39m\u001b[38;5;124mrb\u001b[39m\u001b[38;5;124m'\u001b[39m)\n",
      "File \u001b[1;32m~\\AppData\\Local\\anaconda3\\Lib\\imaplib.py:1326\u001b[0m, in \u001b[0;36mIMAP4_SSL._create_socket\u001b[1;34m(self, timeout)\u001b[0m\n\u001b[0;32m   1325\u001b[0m \u001b[38;5;28;01mdef\u001b[39;00m \u001b[38;5;21m_create_socket\u001b[39m(\u001b[38;5;28mself\u001b[39m, timeout):\n\u001b[1;32m-> 1326\u001b[0m     sock \u001b[38;5;241m=\u001b[39m IMAP4\u001b[38;5;241m.\u001b[39m_create_socket(\u001b[38;5;28mself\u001b[39m, timeout)\n\u001b[0;32m   1327\u001b[0m     \u001b[38;5;28;01mreturn\u001b[39;00m \u001b[38;5;28mself\u001b[39m\u001b[38;5;241m.\u001b[39mssl_context\u001b[38;5;241m.\u001b[39mwrap_socket(sock,\n\u001b[0;32m   1328\u001b[0m                                         server_hostname\u001b[38;5;241m=\u001b[39m\u001b[38;5;28mself\u001b[39m\u001b[38;5;241m.\u001b[39mhost)\n",
      "File \u001b[1;32m~\\AppData\\Local\\anaconda3\\Lib\\imaplib.py:302\u001b[0m, in \u001b[0;36mIMAP4._create_socket\u001b[1;34m(self, timeout)\u001b[0m\n\u001b[0;32m    300\u001b[0m \u001b[38;5;28;01mif\u001b[39;00m timeout \u001b[38;5;129;01mis\u001b[39;00m \u001b[38;5;129;01mnot\u001b[39;00m \u001b[38;5;28;01mNone\u001b[39;00m:\n\u001b[0;32m    301\u001b[0m     \u001b[38;5;28;01mreturn\u001b[39;00m socket\u001b[38;5;241m.\u001b[39mcreate_connection(address, timeout)\n\u001b[1;32m--> 302\u001b[0m \u001b[38;5;28;01mreturn\u001b[39;00m socket\u001b[38;5;241m.\u001b[39mcreate_connection(address)\n",
      "File \u001b[1;32m~\\AppData\\Local\\anaconda3\\Lib\\socket.py:827\u001b[0m, in \u001b[0;36mcreate_connection\u001b[1;34m(address, timeout, source_address, all_errors)\u001b[0m\n\u001b[0;32m    825\u001b[0m host, port \u001b[38;5;241m=\u001b[39m address\n\u001b[0;32m    826\u001b[0m exceptions \u001b[38;5;241m=\u001b[39m []\n\u001b[1;32m--> 827\u001b[0m \u001b[38;5;28;01mfor\u001b[39;00m res \u001b[38;5;129;01min\u001b[39;00m getaddrinfo(host, port, \u001b[38;5;241m0\u001b[39m, SOCK_STREAM):\n\u001b[0;32m    828\u001b[0m     af, socktype, proto, canonname, sa \u001b[38;5;241m=\u001b[39m res\n\u001b[0;32m    829\u001b[0m     sock \u001b[38;5;241m=\u001b[39m \u001b[38;5;28;01mNone\u001b[39;00m\n",
      "File \u001b[1;32m~\\AppData\\Local\\anaconda3\\Lib\\socket.py:962\u001b[0m, in \u001b[0;36mgetaddrinfo\u001b[1;34m(host, port, family, type, proto, flags)\u001b[0m\n\u001b[0;32m    959\u001b[0m \u001b[38;5;66;03m# We override this function since we want to translate the numeric family\u001b[39;00m\n\u001b[0;32m    960\u001b[0m \u001b[38;5;66;03m# and socket type values to enum constants.\u001b[39;00m\n\u001b[0;32m    961\u001b[0m addrlist \u001b[38;5;241m=\u001b[39m []\n\u001b[1;32m--> 962\u001b[0m \u001b[38;5;28;01mfor\u001b[39;00m res \u001b[38;5;129;01min\u001b[39;00m _socket\u001b[38;5;241m.\u001b[39mgetaddrinfo(host, port, family, \u001b[38;5;28mtype\u001b[39m, proto, flags):\n\u001b[0;32m    963\u001b[0m     af, socktype, proto, canonname, sa \u001b[38;5;241m=\u001b[39m res\n\u001b[0;32m    964\u001b[0m     addrlist\u001b[38;5;241m.\u001b[39mappend((_intenum_converter(af, AddressFamily),\n\u001b[0;32m    965\u001b[0m                      _intenum_converter(socktype, SocketKind),\n\u001b[0;32m    966\u001b[0m                      proto, canonname, sa))\n",
      "\u001b[1;31mgaierror\u001b[0m: [Errno 11001] getaddrinfo failed"
     ]
    }
   ],
   "source": [
    "import imaplib\n",
    "imap_server=imaplib.IMAP4_SSL(\"hostname\")\n",
    "imap_server.login(\"user\",\"password\")\n",
    "imap_server.list()\n",
    "imap_server.select(\"inbox\")\n",
    "typ, ids=imap_server.search(None,\"pattern\")\n",
    "result, email_data=imap_server.fetch(ids[index],\"(RFC822)\")\n",
    "raw_email=email_data[0][1]\n",
    "email=raw_email.decode(\"utf-8\")"
   ]
  },
  {
   "cell_type": "code",
   "execution_count": null,
   "id": "87fadfbf",
   "metadata": {},
   "outputs": [],
   "source": [
    "import email\n",
    "for part in email.walk():\n",
    "    if part.get_content_type()==\"text/plain\":\n",
    "        body=part.get_payload(decode=True)"
   ]
  }
 ],
 "metadata": {
  "kernelspec": {
   "display_name": "Python 3 (ipykernel)",
   "language": "python",
   "name": "python3"
  },
  "language_info": {
   "codemirror_mode": {
    "name": "ipython",
    "version": 3
   },
   "file_extension": ".py",
   "mimetype": "text/x-python",
   "name": "python",
   "nbconvert_exporter": "python",
   "pygments_lexer": "ipython3",
   "version": "3.11.5"
  }
 },
 "nbformat": 4,
 "nbformat_minor": 5
}
