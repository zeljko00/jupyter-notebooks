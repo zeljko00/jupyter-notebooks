{
 "cells": [
  {
   "cell_type": "markdown",
   "id": "30e4af6f",
   "metadata": {},
   "source": [
    "range(start,stop,step) je generator funkcija koja generiše specifikovanu sekvencu."
   ]
  },
  {
   "cell_type": "code",
   "execution_count": 1,
   "id": "7352fde1",
   "metadata": {},
   "outputs": [
    {
     "name": "stdout",
     "output_type": "stream",
     "text": [
      "1\n",
      "4\n",
      "7\n"
     ]
    }
   ],
   "source": [
    "for i in range(1,10,3):\n",
    "    print(i)"
   ]
  },
  {
   "cell_type": "code",
   "execution_count": 3,
   "id": "520d8fd1",
   "metadata": {},
   "outputs": [
    {
     "name": "stdout",
     "output_type": "stream",
     "text": [
      "range(1, 10, 3)\n"
     ]
    }
   ],
   "source": [
    "print(range(1,10,3))"
   ]
  },
  {
   "cell_type": "code",
   "execution_count": 2,
   "id": "5b1543c8",
   "metadata": {},
   "outputs": [
    {
     "name": "stdout",
     "output_type": "stream",
     "text": [
      "[1, 4, 7]\n"
     ]
    }
   ],
   "source": [
    "print(list(range(1,10,3)))"
   ]
  },
  {
   "cell_type": "markdown",
   "id": "4c7c4573",
   "metadata": {},
   "source": [
    "enumerate(iterable) je ugrađena funkcija koja rezultatu iteratora pridružuje odgovarajući indeks elementa i vraća tuple."
   ]
  },
  {
   "cell_type": "code",
   "execution_count": 6,
   "id": "7c9819dc",
   "metadata": {},
   "outputs": [
    {
     "name": "stdout",
     "output_type": "stream",
     "text": [
      "(0, 'a')\n",
      "(1, 'b')\n",
      "(2, 'c')\n",
      "(3, 'd')\n"
     ]
    }
   ],
   "source": [
    "for x in enumerate(\"abcd\"):\n",
    "    print(x)"
   ]
  },
  {
   "cell_type": "code",
   "execution_count": 10,
   "id": "7bb43e67",
   "metadata": {},
   "outputs": [
    {
     "name": "stdout",
     "output_type": "stream",
     "text": [
      "0. a\n",
      "1. b\n",
      "2. c\n",
      "3. d\n"
     ]
    }
   ],
   "source": [
    "for index,element in enumerate(\"abcd\"):\n",
    "    print(str(index)+\". \"+element)"
   ]
  },
  {
   "cell_type": "code",
   "execution_count": 11,
   "id": "0e6ff310",
   "metadata": {},
   "outputs": [
    {
     "name": "stdout",
     "output_type": "stream",
     "text": [
      "(1, 'a')\n",
      "(2, 'b')\n",
      "(3, 'c')\n",
      "(4, 'd')\n",
      "(5, 'e')\n"
     ]
    }
   ],
   "source": [
    "list1=[1,2,3,4,5]\n",
    "list2=\"abcde\"\n",
    "for x in zip(list1,list2):\n",
    "    print(x)"
   ]
  },
  {
   "cell_type": "markdown",
   "id": "03a304e8",
   "metadata": {},
   "source": [
    "Provjera da li element (ne) pripada kolekciji se vrši putem (not) in operatora. "
   ]
  },
  {
   "cell_type": "code",
   "execution_count": 16,
   "id": "7f222509",
   "metadata": {},
   "outputs": [
    {
     "data": {
      "text/plain": [
       "True"
      ]
     },
     "execution_count": 16,
     "metadata": {},
     "output_type": "execute_result"
    }
   ],
   "source": [
    "\"a\" in [\"d\",\"f\",\"a\"]"
   ]
  },
  {
   "cell_type": "code",
   "execution_count": 17,
   "id": "1de9c93a",
   "metadata": {},
   "outputs": [
    {
     "data": {
      "text/plain": [
       "'a'"
      ]
     },
     "execution_count": 17,
     "metadata": {},
     "output_type": "execute_result"
    }
   ],
   "source": [
    "min(\"avfig\")"
   ]
  },
  {
   "cell_type": "code",
   "execution_count": 19,
   "id": "fe6b357d",
   "metadata": {},
   "outputs": [
    {
     "data": {
      "text/plain": [
       "3"
      ]
     },
     "execution_count": 19,
     "metadata": {},
     "output_type": "execute_result"
    }
   ],
   "source": [
    "max({1,3,2,0})"
   ]
  },
  {
   "cell_type": "code",
   "execution_count": 20,
   "id": "3380ba25",
   "metadata": {},
   "outputs": [
    {
     "name": "stdout",
     "output_type": "stream",
     "text": [
      "Text to show:dfg\n"
     ]
    },
    {
     "data": {
      "text/plain": [
       "'dfg'"
      ]
     },
     "execution_count": 20,
     "metadata": {},
     "output_type": "execute_result"
    }
   ],
   "source": [
    "input(\"Text to show:\")"
   ]
  },
  {
   "cell_type": "code",
   "execution_count": 21,
   "id": "a4263d02",
   "metadata": {},
   "outputs": [
    {
     "data": {
      "text/plain": [
       "[1, 3, 4, 2]"
      ]
     },
     "execution_count": 21,
     "metadata": {},
     "output_type": "execute_result"
    }
   ],
   "source": [
    "import random\n",
    "list111=[1,2,3,4]\n",
    "random.shuffle(list111)\n",
    "list111"
   ]
  },
  {
   "cell_type": "markdown",
   "id": "20dfdebd",
   "metadata": {},
   "source": [
    "Generisanje nasumičnog broja iz [start,stop] intervala."
   ]
  },
  {
   "cell_type": "code",
   "execution_count": 25,
   "id": "81489b70",
   "metadata": {},
   "outputs": [
    {
     "data": {
      "text/plain": [
       "12"
      ]
     },
     "execution_count": 25,
     "metadata": {},
     "output_type": "execute_result"
    }
   ],
   "source": [
    "random.randint(1,100)"
   ]
  },
  {
   "cell_type": "code",
   "execution_count": 7,
   "id": "d2379b30",
   "metadata": {},
   "outputs": [
    {
     "data": {
      "text/plain": [
       "11"
      ]
     },
     "execution_count": 7,
     "metadata": {},
     "output_type": "execute_result"
    }
   ],
   "source": [
    "abs(-11)"
   ]
  },
  {
   "cell_type": "markdown",
   "id": "81e805e9",
   "metadata": {},
   "source": [
    "Poređenje sa None objektom vršiti putem is operatora - postoji samo 1 None objekat, tako da poređenje po identitetu radi."
   ]
  },
  {
   "cell_type": "code",
   "execution_count": 2,
   "id": "a66ca749",
   "metadata": {},
   "outputs": [
    {
     "name": "stdout",
     "output_type": "stream",
     "text": [
      "True\n"
     ]
    }
   ],
   "source": [
    "a=None\n",
    "print(a is None)"
   ]
  },
  {
   "cell_type": "markdown",
   "id": "3827f92b",
   "metadata": {},
   "source": [
    "Ispis teksta, bez ispisa newline karaktera"
   ]
  },
  {
   "cell_type": "code",
   "execution_count": null,
   "id": "4db160cf",
   "metadata": {},
   "outputs": [],
   "source": [
    "print(\"content\",end=\"\")"
   ]
  },
  {
   "cell_type": "code",
   "execution_count": 1,
   "id": "e9c2e4ce",
   "metadata": {},
   "outputs": [
    {
     "name": "stdout",
     "output_type": "stream",
     "text": [
      "Number: e\n"
     ]
    },
    {
     "data": {
      "text/plain": [
       "str"
      ]
     },
     "execution_count": 1,
     "metadata": {},
     "output_type": "execute_result"
    }
   ],
   "source": [
    "type(input(\"Number: \"))"
   ]
  },
  {
   "cell_type": "markdown",
   "id": "948df108",
   "metadata": {},
   "source": [
    "Nazivi varijabli se čuvaju u namespace-ovima. Svaka varijabla ima svoj opseg koji određuje njen životni vijek, kao i dijelive koda u kojima je dostupna. Prilikom referenciranja varijable python pretražuje opsege u sljedećem redoslijedu: lokalni - okružujući - globalni - ugrađene varijable. Argumenti fje i varijable definisane u njeom tijelu pripadaju lokalnom opsegu tijela funkcije."
   ]
  },
  {
   "cell_type": "code",
   "execution_count": 9,
   "id": "6bfc40ca",
   "metadata": {},
   "outputs": [
    {
     "data": {
      "text/plain": [
       "{'__name__': '__main__',\n",
       " '__doc__': 'Automatically created module for IPython interactive environment',\n",
       " '__package__': None,\n",
       " '__loader__': None,\n",
       " '__spec__': None,\n",
       " '__builtin__': <module 'builtins' (built-in)>,\n",
       " '__builtins__': <module 'builtins' (built-in)>,\n",
       " '_ih': ['',\n",
       "  'globals()',\n",
       "  'globals()\\nlocals()',\n",
       "  'f=1\\nglobals()\\nlocals()',\n",
       "  'f=1\\nglobals()',\n",
       "  'f=1\\nlocals()',\n",
       "  'globals()\\nf=1\\nlocals()',\n",
       "  'abs(-11)',\n",
       "  'globals()\\nf=1\\nlocals()',\n",
       "  'globals()\\nf=11\\nlocals()'],\n",
       " '_oh': {1: {...},\n",
       "  2: {...},\n",
       "  3: {...},\n",
       "  4: {...},\n",
       "  5: {...},\n",
       "  6: {...},\n",
       "  7: 11,\n",
       "  8: {...}},\n",
       " '_dh': [WindowsPath('C:/Users/ztripic/Jupiter Notebooks')],\n",
       " 'In': ['',\n",
       "  'globals()',\n",
       "  'globals()\\nlocals()',\n",
       "  'f=1\\nglobals()\\nlocals()',\n",
       "  'f=1\\nglobals()',\n",
       "  'f=1\\nlocals()',\n",
       "  'globals()\\nf=1\\nlocals()',\n",
       "  'abs(-11)',\n",
       "  'globals()\\nf=1\\nlocals()',\n",
       "  'globals()\\nf=11\\nlocals()'],\n",
       " 'Out': {1: {...},\n",
       "  2: {...},\n",
       "  3: {...},\n",
       "  4: {...},\n",
       "  5: {...},\n",
       "  6: {...},\n",
       "  7: 11,\n",
       "  8: {...}},\n",
       " 'get_ipython': <bound method InteractiveShell.get_ipython of <ipykernel.zmqshell.ZMQInteractiveShell object at 0x0000018F3AB24A10>>,\n",
       " 'exit': <IPython.core.autocall.ZMQExitAutocall at 0x18f3ab30bd0>,\n",
       " 'quit': <IPython.core.autocall.ZMQExitAutocall at 0x18f3ab30bd0>,\n",
       " 'open': <function io.open(file, mode='r', buffering=-1, encoding=None, errors=None, newline=None, closefd=True, opener=None)>,\n",
       " '_': {...},\n",
       " '__': 11,\n",
       " '___': {...},\n",
       " '_i': 'globals()\\nf=1\\nlocals()',\n",
       " '_ii': 'abs(-11)',\n",
       " '_iii': 'globals()\\nf=1\\nlocals()',\n",
       " '_i1': 'globals()',\n",
       " '_1': {...},\n",
       " '_i2': 'globals()\\nlocals()',\n",
       " '_2': {...},\n",
       " '_i3': 'f=1\\nglobals()\\nlocals()',\n",
       " 'f': 11,\n",
       " '_3': {...},\n",
       " '_i4': 'f=1\\nglobals()',\n",
       " '_4': {...},\n",
       " '_i5': 'f=1\\nlocals()',\n",
       " '_5': {...},\n",
       " '_i6': 'globals()\\nf=1\\nlocals()',\n",
       " '_6': {...},\n",
       " '_i7': 'abs(-11)',\n",
       " '_7': 11,\n",
       " '_i8': 'globals()\\nf=1\\nlocals()',\n",
       " '_8': {...},\n",
       " '_i9': 'globals()\\nf=11\\nlocals()'}"
      ]
     },
     "execution_count": 9,
     "metadata": {},
     "output_type": "execute_result"
    }
   ],
   "source": [
    "globals()\n",
    "f=11\n",
    "locals()"
   ]
  },
  {
   "cell_type": "code",
   "execution_count": 23,
   "id": "0281491e",
   "metadata": {},
   "outputs": [
    {
     "name": "stdout",
     "output_type": "stream",
     "text": [
      "[0, 3, 6, 9]\n",
      "[1, 3, 5, 7]\n",
      "15\n",
      "[(0, 1), (1, 2), (2, 3), (3, 4)]\n",
      "[(-5, 1), (-4, 2), (-3, 3), (-2, 4), (-1, 5)]\n",
      "False\n",
      "True\n",
      "True\n",
      "(2+3j)\n",
      "(2+3j)\n"
     ]
    }
   ],
   "source": [
    "a=[0,1,2,3]\n",
    "b=[1,2,3,4,5]\n",
    "print(list(map(lambda x: x*3,a)))\n",
    "print(list(map(lambda x,y: x+y,a,b)))\n",
    "import functools\n",
    "print(functools.reduce(lambda x,y: x+y,b))\n",
    "print(list(zip(a,b)))\n",
    "print(list(enumerate(b,start=-5)))\n",
    "print(all(a))\n",
    "print(all(b))\n",
    "print(any(a))\n",
    "print(complex(\"2+3j\"))\n",
    "print(complex(2,3))"
   ]
  },
  {
   "cell_type": "code",
   "execution_count": null,
   "id": "d20b0e7c",
   "metadata": {},
   "outputs": [],
   "source": []
  }
 ],
 "metadata": {
  "kernelspec": {
   "display_name": "Python 3 (ipykernel)",
   "language": "python",
   "name": "python3"
  },
  "language_info": {
   "codemirror_mode": {
    "name": "ipython",
    "version": 3
   },
   "file_extension": ".py",
   "mimetype": "text/x-python",
   "name": "python",
   "nbconvert_exporter": "python",
   "pygments_lexer": "ipython3",
   "version": "3.11.5"
  }
 },
 "nbformat": 4,
 "nbformat_minor": 5
}
