{
 "cells": [
  {
   "cell_type": "markdown",
   "id": "a61a8f4c",
   "metadata": {},
   "source": [
    "# Rad sa fajlovima"
   ]
  },
  {
   "cell_type": "markdown",
   "id": "8dc5c4f5",
   "metadata": {},
   "source": [
    "Kreiranje fajla kroz jupyter notebook je dato u nastavku"
   ]
  },
  {
   "cell_type": "code",
   "execution_count": 4,
   "id": "64860ddd",
   "metadata": {},
   "outputs": [
    {
     "name": "stdout",
     "output_type": "stream",
     "text": [
      "Overwriting file.txt\n"
     ]
    }
   ],
   "source": [
    "%%writefile file.txt\n",
    "LINE1\n",
    "LINE2"
   ]
  },
  {
   "cell_type": "markdown",
   "id": "c42ade6a",
   "metadata": {},
   "source": [
    "Prilikom otvaranja fajla potrebno je specifikovati njegovu putanju, te opciono način rada sa fajlom i druge parametre. Fajl je\n",
    "moguće otovoriti u sljedećim modovima rada:\n",
    "r - samo čitanje postojećeg fajla\n",
    "w - prepisivanje postojećeg ili kreiranje i upis u novokreirani fajl\n",
    "a - upis na kraj postojećeg/novog fajla\n",
    "r+ - čitanje i pisanje u postojeći fajl\n",
    "w+ - čitanje i pisanje u postojeći/novi fajl\n",
    "a+ - čitanje i upis na kraj postojećeg/novog fajla \n",
    "Za bianrne fajlove se dodaje još i \"b\" u mod."
   ]
  },
  {
   "cell_type": "code",
   "execution_count": 5,
   "id": "20a36054",
   "metadata": {},
   "outputs": [
    {
     "ename": "FileNotFoundError",
     "evalue": "[Errno 2] No such file or directory: 'nonexistingfile.txt'",
     "output_type": "error",
     "traceback": [
      "\u001b[1;31m---------------------------------------------------------------------------\u001b[0m",
      "\u001b[1;31mFileNotFoundError\u001b[0m                         Traceback (most recent call last)",
      "Cell \u001b[1;32mIn[5], line 1\u001b[0m\n\u001b[1;32m----> 1\u001b[0m file\u001b[38;5;241m=\u001b[39m\u001b[38;5;28mopen\u001b[39m(\u001b[38;5;124m\"\u001b[39m\u001b[38;5;124mnonexistingfile.txt\u001b[39m\u001b[38;5;124m\"\u001b[39m)\n",
      "File \u001b[1;32m~\\AppData\\Local\\anaconda3\\Lib\\site-packages\\IPython\\core\\interactiveshell.py:286\u001b[0m, in \u001b[0;36m_modified_open\u001b[1;34m(file, *args, **kwargs)\u001b[0m\n\u001b[0;32m    279\u001b[0m \u001b[38;5;28;01mif\u001b[39;00m file \u001b[38;5;129;01min\u001b[39;00m {\u001b[38;5;241m0\u001b[39m, \u001b[38;5;241m1\u001b[39m, \u001b[38;5;241m2\u001b[39m}:\n\u001b[0;32m    280\u001b[0m     \u001b[38;5;28;01mraise\u001b[39;00m \u001b[38;5;167;01mValueError\u001b[39;00m(\n\u001b[0;32m    281\u001b[0m         \u001b[38;5;124mf\u001b[39m\u001b[38;5;124m\"\u001b[39m\u001b[38;5;124mIPython won\u001b[39m\u001b[38;5;124m'\u001b[39m\u001b[38;5;124mt let you open fd=\u001b[39m\u001b[38;5;132;01m{\u001b[39;00mfile\u001b[38;5;132;01m}\u001b[39;00m\u001b[38;5;124m by default \u001b[39m\u001b[38;5;124m\"\u001b[39m\n\u001b[0;32m    282\u001b[0m         \u001b[38;5;124m\"\u001b[39m\u001b[38;5;124mas it is likely to crash IPython. If you know what you are doing, \u001b[39m\u001b[38;5;124m\"\u001b[39m\n\u001b[0;32m    283\u001b[0m         \u001b[38;5;124m\"\u001b[39m\u001b[38;5;124myou can use builtins\u001b[39m\u001b[38;5;124m'\u001b[39m\u001b[38;5;124m open.\u001b[39m\u001b[38;5;124m\"\u001b[39m\n\u001b[0;32m    284\u001b[0m     )\n\u001b[1;32m--> 286\u001b[0m \u001b[38;5;28;01mreturn\u001b[39;00m io_open(file, \u001b[38;5;241m*\u001b[39margs, \u001b[38;5;241m*\u001b[39m\u001b[38;5;241m*\u001b[39mkwargs)\n",
      "\u001b[1;31mFileNotFoundError\u001b[0m: [Errno 2] No such file or directory: 'nonexistingfile.txt'"
     ]
    }
   ],
   "source": [
    "file=open(\"nonexistingfile.txt\")"
   ]
  },
  {
   "cell_type": "code",
   "execution_count": 6,
   "id": "42458533",
   "metadata": {},
   "outputs": [],
   "source": [
    "file=open(\"file.txt\",mode=\"r\")"
   ]
  },
  {
   "cell_type": "markdown",
   "id": "f2dee2b9",
   "metadata": {},
   "source": [
    "Čitanjem fajla pomijera se pozicija kursora. Funkcija read() pročita sav sadržaj fajl u vrati ga u vidu stringa (newline je predstavljen sa \\n) i pomjeri kursor na kraj - zbog toga sljedeće čitanje ne vrati ništa. "
   ]
  },
  {
   "cell_type": "code",
   "execution_count": 8,
   "id": "00db8cae",
   "metadata": {},
   "outputs": [
    {
     "data": {
      "text/plain": [
       "_io.TextIOWrapper"
      ]
     },
     "execution_count": 8,
     "metadata": {},
     "output_type": "execute_result"
    }
   ],
   "source": [
    "type(file)"
   ]
  },
  {
   "cell_type": "code",
   "execution_count": 9,
   "id": "bcccbbca",
   "metadata": {},
   "outputs": [
    {
     "data": {
      "text/plain": [
       "'LINE1\\nLINE2\\n'"
      ]
     },
     "execution_count": 9,
     "metadata": {},
     "output_type": "execute_result"
    }
   ],
   "source": [
    "file.read()"
   ]
  },
  {
   "cell_type": "code",
   "execution_count": 10,
   "id": "39df6c6b",
   "metadata": {},
   "outputs": [
    {
     "data": {
      "text/plain": [
       "''"
      ]
     },
     "execution_count": 10,
     "metadata": {},
     "output_type": "execute_result"
    }
   ],
   "source": [
    "file.read()"
   ]
  },
  {
   "cell_type": "code",
   "execution_count": 11,
   "id": "981b5934",
   "metadata": {},
   "outputs": [
    {
     "data": {
      "text/plain": [
       "0"
      ]
     },
     "execution_count": 11,
     "metadata": {},
     "output_type": "execute_result"
    }
   ],
   "source": [
    "file.seek(0)"
   ]
  },
  {
   "cell_type": "code",
   "execution_count": 12,
   "id": "26e6c409",
   "metadata": {},
   "outputs": [
    {
     "data": {
      "text/plain": [
       "['LINE1\\n', 'LINE2\\n']"
      ]
     },
     "execution_count": 12,
     "metadata": {},
     "output_type": "execute_result"
    }
   ],
   "source": [
    "file.readlines()"
   ]
  },
  {
   "cell_type": "code",
   "execution_count": 13,
   "id": "31f528ed",
   "metadata": {},
   "outputs": [
    {
     "ename": "UnsupportedOperation",
     "evalue": "not writable",
     "output_type": "error",
     "traceback": [
      "\u001b[1;31m---------------------------------------------------------------------------\u001b[0m",
      "\u001b[1;31mUnsupportedOperation\u001b[0m                      Traceback (most recent call last)",
      "Cell \u001b[1;32mIn[13], line 1\u001b[0m\n\u001b[1;32m----> 1\u001b[0m file\u001b[38;5;241m.\u001b[39mwrite(\u001b[38;5;124m\"\u001b[39m\u001b[38;5;124mNEW CONTENT\u001b[39m\u001b[38;5;124m\"\u001b[39m)\n",
      "\u001b[1;31mUnsupportedOperation\u001b[0m: not writable"
     ]
    }
   ],
   "source": [
    "file.write(\"NEW CONTENT\")"
   ]
  },
  {
   "cell_type": "markdown",
   "id": "c2d5df5f",
   "metadata": {},
   "source": [
    "Kako bi proces u kome se izvršava python kod oslobodio resurs, tj. fajl, potrebno je eksplicitno pozvati close() metodu  ili koristiti with blok (prilikom izlaska iz with bloka implicitno se poziva close() metoda)"
   ]
  },
  {
   "cell_type": "code",
   "execution_count": 14,
   "id": "d666881a",
   "metadata": {},
   "outputs": [],
   "source": [
    "file.close()"
   ]
  },
  {
   "cell_type": "code",
   "execution_count": 16,
   "id": "10e6402f",
   "metadata": {},
   "outputs": [
    {
     "ename": "UnsupportedOperation",
     "evalue": "not readable",
     "output_type": "error",
     "traceback": [
      "\u001b[1;31m---------------------------------------------------------------------------\u001b[0m",
      "\u001b[1;31mUnsupportedOperation\u001b[0m                      Traceback (most recent call last)",
      "Cell \u001b[1;32mIn[16], line 3\u001b[0m\n\u001b[0;32m      1\u001b[0m \u001b[38;5;28;01mwith\u001b[39;00m \u001b[38;5;28mopen\u001b[39m(\u001b[38;5;124m\"\u001b[39m\u001b[38;5;124mfile.txt\u001b[39m\u001b[38;5;124m\"\u001b[39m,\u001b[38;5;124m\"\u001b[39m\u001b[38;5;124mw\u001b[39m\u001b[38;5;124m\"\u001b[39m) \u001b[38;5;28;01mas\u001b[39;00m file:\n\u001b[0;32m      2\u001b[0m     file\u001b[38;5;241m.\u001b[39mwrite(\u001b[38;5;124m\"\u001b[39m\u001b[38;5;124mNEW CONTENT\u001b[39m\u001b[38;5;124m\"\u001b[39m)\n\u001b[1;32m----> 3\u001b[0m     file\u001b[38;5;241m.\u001b[39mread()\n",
      "\u001b[1;31mUnsupportedOperation\u001b[0m: not readable"
     ]
    }
   ],
   "source": [
    "with open(\"file.txt\",\"w+\") as file:\n",
    "    file.write(\"NEW CONTENT\")\n",
    "    file.read()"
   ]
  },
  {
   "cell_type": "code",
   "execution_count": 17,
   "id": "1729296a",
   "metadata": {},
   "outputs": [
    {
     "name": "stdout",
     "output_type": "stream",
     "text": [
      "C:\\Users\\ztripic\\Jupiter Notebooks\n"
     ]
    }
   ],
   "source": [
    "import os\n",
    "print(os.getcwd())\n"
   ]
  },
  {
   "cell_type": "code",
   "execution_count": 18,
   "id": "2515d580",
   "metadata": {},
   "outputs": [
    {
     "name": "stdout",
     "output_type": "stream",
     "text": [
      "['.ipynb_checkpoints', '07-Statements Assessment Test.ipynb', 'collections-module.ipynb', 'data_types.ipynb', 'file.txt', 'flow_control.ipynb', 'functions.ipynb', 'io.ipynb', 'misc.ipynb', 'oop.ipynb', 'problems.ipynb']\n"
     ]
    }
   ],
   "source": [
    "print(os.listdir())"
   ]
  },
  {
   "cell_type": "code",
   "execution_count": 19,
   "id": "5caf2e0e",
   "metadata": {},
   "outputs": [
    {
     "name": "stdout",
     "output_type": "stream",
     "text": [
      "['.anaconda', '.android', '.bash_history', '.cisco', '.conda', '.condarc', '.continuum', '.docker', '.ipynb_checkpoints', '.ipython', '.jupyter', '.lesshst', '.m2', '.ms-ad', '.vscode', '.vscode-cli', '3D Objects', 'AppData', 'Application Data', 'Contacts', 'Cookies', 'datetime-module.ipynb', 'Desktop', 'Documents', 'Downloads', 'Favorites', 'IdeaProjects', 'IntelGraphicsProfiles', 'Jupiter Notebooks', 'Links', 'Local Settings', 'Music', 'My Documents', 'NetHood', 'NTUSER.DAT', 'ntuser.dat.LOG1', 'ntuser.dat.LOG2', 'NTUSER.DAT{53b39e88-18c4-11ea-a811-000d3aa4692b}.TM.blf', 'NTUSER.DAT{53b39e88-18c4-11ea-a811-000d3aa4692b}.TMContainer00000000000000000001.regtrans-ms', 'NTUSER.DAT{53b39e88-18c4-11ea-a811-000d3aa4692b}.TMContainer00000000000000000002.regtrans-ms', 'ntuser.ini', 'OneDrive', 'Pictures', 'Postman', 'PrintHood', 'PycharmProjects', 'Recent', 'Saved Games', 'Searches', 'SendTo', 'Start Menu', 'Templates', 'Tracing', 'Videos', 'VsCode']\n"
     ]
    }
   ],
   "source": [
    "print(os.listdir(\"../\"))"
   ]
  },
  {
   "cell_type": "code",
   "execution_count": null,
   "id": "bd09c054",
   "metadata": {},
   "outputs": [],
   "source": [
    "Trajno brisanje je prikazano u nastavku. Za premještanje u kantu za smeće instalirati i koristiti send2trash paket."
   ]
  },
  {
   "cell_type": "code",
   "execution_count": null,
   "id": "b6fa8894",
   "metadata": {},
   "outputs": [],
   "source": [
    "os.unlink(\"file to delete\")\n",
    "os.rmdir(\"empty dir to delete\")\n",
    "os.rmtree(\"dir to delete\")"
   ]
  },
  {
   "cell_type": "code",
   "execution_count": null,
   "id": "842e7a2f",
   "metadata": {},
   "outputs": [],
   "source": [
    "import shutil\n",
    "shutil.move(\"old path\",\"new path\")"
   ]
  },
  {
   "cell_type": "markdown",
   "id": "ebaeb3dd",
   "metadata": {},
   "source": [
    "Obilazak stabla direktorijuma"
   ]
  },
  {
   "cell_type": "code",
   "execution_count": 22,
   "id": "43d16ab0",
   "metadata": {},
   "outputs": [
    {
     "name": "stdout",
     "output_type": "stream",
     "text": [
      "Current folder: C:\\Users\\ztripic\\Jupiter Notebooks\n",
      "Subfolders: ['.ipynb_checkpoints']\n",
      "Files: ['07-Statements Assessment Test.ipynb', 'collections-module.ipynb', 'data_types.ipynb', 'file.txt', 'flow_control.ipynb', 'functions.ipynb', 'io.ipynb', 'misc.ipynb', 'oop.ipynb', 'problems.ipynb']\n",
      "Current folder: C:\\Users\\ztripic\\Jupiter Notebooks\\.ipynb_checkpoints\n",
      "Subfolders: []\n",
      "Files: ['07-Statements Assessment Test-checkpoint.ipynb', 'collections-module-checkpoint.ipynb', 'data_types-checkpoint.ipynb', 'flow_control-checkpoint.ipynb', 'functions-checkpoint.ipynb', 'io-checkpoint.ipynb', 'misc-checkpoint.ipynb', 'oop-checkpoint.ipynb', 'problems-checkpoint.ipynb']\n"
     ]
    }
   ],
   "source": [
    "for folder,subfolders,files in os.walk(os.getcwd()):\n",
    "    print(\"Current folder: \"+folder)\n",
    "    print(\"Subfolders: \"+str(subfolders))\n",
    "    print(\"Files: \"+str(files))"
   ]
  },
  {
   "cell_type": "markdown",
   "id": "ff9cc0e2",
   "metadata": {},
   "source": [
    "U nastavku je prikazano kreiranje zip fajla, kompresija sadržaja 2 fajla u zip fajl. Otpakivanje krerianog zip fajla u specifikovani folder - dobiju se 2 početna fajla. "
   ]
  },
  {
   "cell_type": "code",
   "execution_count": 23,
   "id": "0ca0694d",
   "metadata": {},
   "outputs": [
    {
     "ename": "NameError",
     "evalue": "name 'ZipFile' is not defined",
     "output_type": "error",
     "traceback": [
      "\u001b[1;31m---------------------------------------------------------------------------\u001b[0m",
      "\u001b[1;31mNameError\u001b[0m                                 Traceback (most recent call last)",
      "Cell \u001b[1;32mIn[23], line 2\u001b[0m\n\u001b[0;32m      1\u001b[0m \u001b[38;5;28;01mimport\u001b[39;00m \u001b[38;5;21;01mzipfile\u001b[39;00m\n\u001b[1;32m----> 2\u001b[0m zipped\u001b[38;5;241m=\u001b[39mZipFile(\u001b[38;5;124m\"\u001b[39m\u001b[38;5;124mzipped\u001b[39m\u001b[38;5;124m\"\u001b[39m,\u001b[38;5;124m\"\u001b[39m\u001b[38;5;124mw\u001b[39m\u001b[38;5;124m\"\u001b[39m)\n\u001b[0;32m      3\u001b[0m zipped\u001b[38;5;241m.\u001b[39mwrite(\u001b[38;5;124m\"\u001b[39m\u001b[38;5;124mfile to zip 1\u001b[39m\u001b[38;5;124m\"\u001b[39m,compress_type\u001b[38;5;241m=\u001b[39mzipfile\u001b[38;5;241m.\u001b[39mZIP_DEFALTED)\n\u001b[0;32m      4\u001b[0m zipped\u001b[38;5;241m.\u001b[39mwrite(\u001b[38;5;124m\"\u001b[39m\u001b[38;5;124mfile to zip 2\u001b[39m\u001b[38;5;124m\"\u001b[39m,compress_type\u001b[38;5;241m=\u001b[39mzipfile\u001b[38;5;241m.\u001b[39mZIP_DEFALTED)\n",
      "\u001b[1;31mNameError\u001b[0m: name 'ZipFile' is not defined"
     ]
    }
   ],
   "source": [
    "import zipfile\n",
    "zipped=ZipFile(\"zipped\",\"w\")\n",
    "zipped.write(\"file to zip 1\",compress_type=zipfile.ZIP_DEFALTED)\n",
    "zipped.write(\"file to zip 2\",compress_type=zipfile.ZIP_DEFALTED)\n",
    "zipped.close()\n",
    "zipped.ZipFile(\"zipped\",\"r\")\n",
    "ziiped.extractall(\"extracted\")"
   ]
  },
  {
   "cell_type": "code",
   "execution_count": null,
   "id": "4a953faf",
   "metadata": {},
   "outputs": [],
   "source": [
    "shutil.make_archive(\"zipped\",\"zip\",\"directory to zip\")\n",
    "shutil.unpack_archive(\"extracted\",\"zipped\",\"zip\")"
   ]
  }
 ],
 "metadata": {
  "kernelspec": {
   "display_name": "Python 3 (ipykernel)",
   "language": "python",
   "name": "python3"
  },
  "language_info": {
   "codemirror_mode": {
    "name": "ipython",
    "version": 3
   },
   "file_extension": ".py",
   "mimetype": "text/x-python",
   "name": "python",
   "nbconvert_exporter": "python",
   "pygments_lexer": "ipython3",
   "version": "3.11.5"
  }
 },
 "nbformat": 4,
 "nbformat_minor": 5
}
