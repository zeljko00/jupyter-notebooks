{
 "cells": [
  {
   "cell_type": "markdown",
   "id": "241389bf",
   "metadata": {},
   "source": [
    "# Statements"
   ]
  },
  {
   "cell_type": "code",
   "execution_count": 1,
   "id": "166bb2e4",
   "metadata": {},
   "outputs": [
    {
     "name": "stdout",
     "output_type": "stream",
     "text": [
      "I don't know what it is!\n"
     ]
    }
   ],
   "source": [
    "flag=3\n",
    "if flag==1:\n",
    "    print(\"It's one!\")\n",
    "elif flag==2:\n",
    "    print(\"It's two!\")\n",
    "else:\n",
    "    print(\"I don't know what it is!\")"
   ]
  },
  {
   "cell_type": "markdown",
   "id": "d954424a",
   "metadata": {},
   "source": [
    "For petlja omogućava iteraciju kroz bilo koji iterabilan objekat (poput iterabilnih kolekcija, sekvenci...). Ponaša se kao iterator. Mnogi klase objekata svoje iterable-e isporučuju u vidu sekvenci n-torki što omogućava korištenje unpacking mehanizma"
   ]
  },
  {
   "cell_type": "code",
   "execution_count": 2,
   "id": "4cee553c",
   "metadata": {},
   "outputs": [
    {
     "name": "stdout",
     "output_type": "stream",
     "text": [
      "1\n",
      "2\n",
      "3\n",
      "4\n",
      "5\n"
     ]
    }
   ],
   "source": [
    "for element in \"Hello World\":\n",
    "    print(element)"
   ]
  },
  {
   "cell_type": "code",
   "execution_count": 4,
   "id": "946bd893",
   "metadata": {},
   "outputs": [
    {
     "name": "stdout",
     "output_type": "stream",
     "text": [
      "1\n",
      "3\n",
      "5\n"
     ]
    }
   ],
   "source": [
    "for (el1,el2) in [(1,2),(3,4),(5,6)]:\n",
    "    print(el1)"
   ]
  },
  {
   "cell_type": "code",
   "execution_count": 5,
   "id": "5c5ae466",
   "metadata": {},
   "outputs": [
    {
     "name": "stdout",
     "output_type": "stream",
     "text": [
      "1\n",
      "3\n",
      "5\n"
     ]
    }
   ],
   "source": [
    "for el1,el2 in [(1,2),(3,4),(5,6)]:\n",
    "    print(el1)"
   ]
  },
  {
   "cell_type": "code",
   "execution_count": null,
   "id": "1d2a5a93",
   "metadata": {},
   "outputs": [],
   "source": []
  }
 ],
 "metadata": {
  "kernelspec": {
   "display_name": "Python 3 (ipykernel)",
   "language": "python",
   "name": "python3"
  },
  "language_info": {
   "codemirror_mode": {
    "name": "ipython",
    "version": 3
   },
   "file_extension": ".py",
   "mimetype": "text/x-python",
   "name": "python",
   "nbconvert_exporter": "python",
   "pygments_lexer": "ipython3",
   "version": "3.11.5"
  }
 },
 "nbformat": 4,
 "nbformat_minor": 5
}
