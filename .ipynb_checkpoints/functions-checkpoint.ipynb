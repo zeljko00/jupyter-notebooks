{
 "cells": [
  {
   "cell_type": "markdown",
   "id": "0a973953",
   "metadata": {},
   "source": [
    "# Funkcije\n"
   ]
  },
  {
   "cell_type": "code",
   "execution_count": 1,
   "id": "e7454c12",
   "metadata": {},
   "outputs": [
    {
     "name": "stdout",
     "output_type": "stream",
     "text": [
      "Help on built-in function pop:\n",
      "\n",
      "pop(index=-1, /) method of builtins.list instance\n",
      "    Remove and return item at index (default last).\n",
      "    \n",
      "    Raises IndexError if list is empty or index is out of range.\n",
      "\n"
     ]
    }
   ],
   "source": [
    "help(list().pop)"
   ]
  },
  {
   "cell_type": "code",
   "execution_count": 2,
   "id": "dd669fab",
   "metadata": {},
   "outputs": [
    {
     "name": "stdout",
     "output_type": "stream",
     "text": [
      "1\n",
      "10\n"
     ]
    }
   ],
   "source": [
    "def func1(arg=10):\n",
    "    print(arg)\n",
    "func1(1)\n",
    "func1(10)"
   ]
  },
  {
   "cell_type": "markdown",
   "id": "0bb4582e",
   "metadata": {},
   "source": [
    "Argumenti koji imaju specifikovanu podrazumijevanu vrijednost se moraju naći na kraju liste!"
   ]
  },
  {
   "cell_type": "code",
   "execution_count": 21,
   "id": "ffef6b5f",
   "metadata": {},
   "outputs": [
    {
     "ename": "SyntaxError",
     "evalue": "non-default argument follows default argument (1782730955.py, line 1)",
     "output_type": "error",
     "traceback": [
      "\u001b[1;36m  Cell \u001b[1;32mIn[21], line 1\u001b[1;36m\u001b[0m\n\u001b[1;33m    def func11(arg1=10,arg2):\u001b[0m\n\u001b[1;37m                       ^\u001b[0m\n\u001b[1;31mSyntaxError\u001b[0m\u001b[1;31m:\u001b[0m non-default argument follows default argument\n"
     ]
    }
   ],
   "source": [
    "def func11(arg1=10,arg2):\n",
    "    pass"
   ]
  },
  {
   "cell_type": "code",
   "execution_count": 10,
   "id": "57e7a626",
   "metadata": {},
   "outputs": [
    {
     "name": "stdout",
     "output_type": "stream",
     "text": [
      "a=1 b=2\n",
      "a=2 b=1\n",
      "a=1 b=2\n"
     ]
    }
   ],
   "source": [
    "def func2(a,b):\n",
    "    print(\"a=\"+str(a)+\" b=\"+str(b))\n",
    "func2(1,2)\n",
    "func2(b=1,a=2)\n",
    "func2(1,b=2)\n"
   ]
  },
  {
   "cell_type": "markdown",
   "id": "79c05159",
   "metadata": {},
   "source": [
    "Pozicioni argumenti se moraju proslijediti funkciji prije imenovanih!"
   ]
  },
  {
   "cell_type": "code",
   "execution_count": 11,
   "id": "adff25d0",
   "metadata": {},
   "outputs": [
    {
     "ename": "SyntaxError",
     "evalue": "positional argument follows keyword argument (2629673212.py, line 1)",
     "output_type": "error",
     "traceback": [
      "\u001b[1;36m  Cell \u001b[1;32mIn[11], line 1\u001b[1;36m\u001b[0m\n\u001b[1;33m    func2(b=1,2)\u001b[0m\n\u001b[1;37m               ^\u001b[0m\n\u001b[1;31mSyntaxError\u001b[0m\u001b[1;31m:\u001b[0m positional argument follows keyword argument\n"
     ]
    }
   ],
   "source": [
    "func2(b=1,2)"
   ]
  },
  {
   "cell_type": "markdown",
   "id": "5ffde745",
   "metadata": {},
   "source": [
    "Funkcija može da primi proizvoljan broj pozicionih argumenata. Ne mora se nužno koristiti args naziv."
   ]
  },
  {
   "cell_type": "code",
   "execution_count": 14,
   "id": "d30ffc4b",
   "metadata": {},
   "outputs": [
    {
     "name": "stdout",
     "output_type": "stream",
     "text": [
      "(1,)\n",
      "<class 'tuple'>\n",
      "(3, 'four')\n",
      "<class 'tuple'>\n",
      "()\n",
      "<class 'tuple'>\n"
     ]
    }
   ],
   "source": [
    "def func3(*args):\n",
    "    print(args)\n",
    "    print(type(args))\n",
    "func3(1)\n",
    "func3(3,\"four\")\n",
    "func3()\n"
   ]
  },
  {
   "cell_type": "markdown",
   "id": "4e800b8c",
   "metadata": {},
   "source": [
    "Funkcija može da primi proizvoljan broj imenovanih argumenata. Ne mora se nužno koristiti kwargs naziv."
   ]
  },
  {
   "cell_type": "code",
   "execution_count": 16,
   "id": "71afc07a",
   "metadata": {},
   "outputs": [
    {
     "name": "stdout",
     "output_type": "stream",
     "text": [
      "{}\n",
      "<class 'dict'>\n",
      "{'name': 'marko'}\n",
      "<class 'dict'>\n",
      "{'name': 'marko', 'id': 1234}\n",
      "<class 'dict'>\n"
     ]
    }
   ],
   "source": [
    "def func4(**kwargs):\n",
    "    print(kwargs)\n",
    "    print(type(kwargs))\n",
    "func4()\n",
    "func4(name=\"marko\")\n",
    "func4(name=\"marko\",id=1234)"
   ]
  },
  {
   "cell_type": "code",
   "execution_count": 18,
   "id": "b846a73c",
   "metadata": {},
   "outputs": [
    {
     "name": "stdout",
     "output_type": "stream",
     "text": [
      "(1, 2, 'Hello')\n",
      "{'name': 'marko'}\n"
     ]
    }
   ],
   "source": [
    "def func5(*args,**kwargs):\n",
    "    print(args)\n",
    "    print(kwargs)\n",
    "func5(1,2,\"Hello\",name=\"marko\")"
   ]
  },
  {
   "cell_type": "markdown",
   "id": "7d298962",
   "metadata": {},
   "source": [
    "Prvo se moraju proslijediti imenovani argumenti!"
   ]
  },
  {
   "cell_type": "code",
   "execution_count": 19,
   "id": "7f60e5fe",
   "metadata": {},
   "outputs": [
    {
     "ename": "SyntaxError",
     "evalue": "positional argument follows keyword argument (3897537611.py, line 1)",
     "output_type": "error",
     "traceback": [
      "\u001b[1;36m  Cell \u001b[1;32mIn[19], line 1\u001b[1;36m\u001b[0m\n\u001b[1;33m    func5(name=\"marko\",1,\"Hello\")\u001b[0m\n\u001b[1;37m                                ^\u001b[0m\n\u001b[1;31mSyntaxError\u001b[0m\u001b[1;31m:\u001b[0m positional argument follows keyword argument\n"
     ]
    }
   ],
   "source": [
    "func5(name=\"marko\",1,\"Hello\")"
   ]
  },
  {
   "cell_type": "markdown",
   "id": "98c24fb8",
   "metadata": {},
   "source": [
    "Pozicioni argumenti se moraju i deklarisati prije imenovanih!"
   ]
  },
  {
   "cell_type": "code",
   "execution_count": 20,
   "id": "e4f6636f",
   "metadata": {},
   "outputs": [
    {
     "ename": "SyntaxError",
     "evalue": "arguments cannot follow var-keyword argument (3540847283.py, line 1)",
     "output_type": "error",
     "traceback": [
      "\u001b[1;36m  Cell \u001b[1;32mIn[20], line 1\u001b[1;36m\u001b[0m\n\u001b[1;33m    def func6(**kwargs,*args):\u001b[0m\n\u001b[1;37m                       ^\u001b[0m\n\u001b[1;31mSyntaxError\u001b[0m\u001b[1;31m:\u001b[0m arguments cannot follow var-keyword argument\n"
     ]
    }
   ],
   "source": [
    "def func6(**kwargs,*args):\n",
    "    pass"
   ]
  },
  {
   "cell_type": "code",
   "execution_count": null,
   "id": "b92b926d",
   "metadata": {},
   "outputs": [],
   "source": [
    "def func"
   ]
  }
 ],
 "metadata": {
  "kernelspec": {
   "display_name": "Python 3 (ipykernel)",
   "language": "python",
   "name": "python3"
  },
  "language_info": {
   "codemirror_mode": {
    "name": "ipython",
    "version": 3
   },
   "file_extension": ".py",
   "mimetype": "text/x-python",
   "name": "python",
   "nbconvert_exporter": "python",
   "pygments_lexer": "ipython3",
   "version": "3.11.5"
  }
 },
 "nbformat": 4,
 "nbformat_minor": 5
}
