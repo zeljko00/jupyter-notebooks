{
 "cells": [
  {
   "cell_type": "markdown",
   "id": "0ac54b50",
   "metadata": {},
   "source": [
    "# Varijable i tipovi podataka"
   ]
  },
  {
   "cell_type": "markdown",
   "id": "17fa74e5",
   "metadata": {},
   "source": [
    "Python ima 9 ugrađenih tipova podataka, navedenih u nastavku. Korisnici mogu da korištenjem ovih tipova kreiraju kompleksnije, korisnički definisane, tipove podataka."
   ]
  },
  {
   "cell_type": "code",
   "execution_count": 1,
   "id": "14c98dcf",
   "metadata": {},
   "outputs": [],
   "source": [
    "integer_var=1\n",
    "float_var=0.45\n",
    "complex_var=1+2j\n",
    "string_var=\"value\"\n",
    "list_var=[\"element1\",2,(\"element3\"),4]\n",
    "dictionary_var={\"key1\": 1, 2: \"value2\"}\n",
    "tuple_var=(1,\"value2\",3)\n",
    "set_var={1,2,\"two\",3}\n",
    "bool_var=True"
   ]
  },
  {
   "cell_type": "markdown",
   "id": "ddccfb33",
   "metadata": {},
   "source": [
    "Python je dinamički tipiziran jezik. Dinamičko tipiziranje omogućava da se tip podataka neke varijable promijeni u toku njenog životnog vijeka. Dinamički tipizirani jezici ne zahtijevaju eksplicitnu specifikaciju tipa promjenjive prilikom njene deklaracije. Tip promjenjive se implicitno zaključuje na osnovu tipa vrijednosti koja joj se dodijeli. Statički tipizirani jezici poput C, C++, Java, i dr. zahtijevaju da se tip varijable specifikuje eskplicitno prilikom njene deklaracije i da se on ne mijenja u toku njenog životnog vijeka. Dinamičko tipiziranje može rezultovati različitim bug-ovim u kodu, usljed izmjene i neočekivanog tipa varijable u nekom trenutku runtime-a."
   ]
  },
  {
   "cell_type": "code",
   "execution_count": 2,
   "id": "0d33c3bf",
   "metadata": {},
   "outputs": [
    {
     "data": {
      "text/plain": [
       "'ten'"
      ]
     },
     "execution_count": 2,
     "metadata": {},
     "output_type": "execute_result"
    }
   ],
   "source": [
    "a = 10\n",
    "a = \"ten\"\n",
    "a"
   ]
  },
  {
   "cell_type": "markdown",
   "id": "f50dc38c",
   "metadata": {},
   "source": [
    "Funkcija type(VARIABLE) se koristi kako bi se odredio tip navedene varijable."
   ]
  },
  {
   "cell_type": "code",
   "execution_count": 3,
   "id": "c6d9b8de",
   "metadata": {},
   "outputs": [
    {
     "data": {
      "text/plain": [
       "list"
      ]
     },
     "execution_count": 3,
     "metadata": {},
     "output_type": "execute_result"
    }
   ],
   "source": [
    "type([\"first\",2])"
   ]
  },
  {
   "cell_type": "markdown",
   "id": "20954fc8",
   "metadata": {},
   "source": [
    "## Brojevi\n",
    "Python tipovi kojima se reprezentuju brojevi: int, float, complex"
   ]
  },
  {
   "cell_type": "code",
   "execution_count": 4,
   "id": "981eeebd",
   "metadata": {},
   "outputs": [],
   "source": [
    "integer_var1=1\n",
    "integer_var2=0xA1\n",
    "float_var1=0.45\n",
    "float_var2=1.0\n",
    "float_var3=2e2\n",
    "float_var4=2E2\n",
    "complex_var=2+2j"
   ]
  },
  {
   "cell_type": "code",
   "execution_count": 5,
   "id": "f446e39a",
   "metadata": {},
   "outputs": [
    {
     "data": {
      "text/plain": [
       "200.0"
      ]
     },
     "execution_count": 5,
     "metadata": {},
     "output_type": "execute_result"
    }
   ],
   "source": [
    "float_var3"
   ]
  },
  {
   "cell_type": "code",
   "execution_count": 6,
   "id": "8ed12288",
   "metadata": {},
   "outputs": [
    {
     "data": {
      "text/plain": [
       "200.0"
      ]
     },
     "execution_count": 6,
     "metadata": {},
     "output_type": "execute_result"
    }
   ],
   "source": [
    "float_var4"
   ]
  },
  {
   "cell_type": "markdown",
   "id": "ed429584",
   "metadata": {},
   "source": [
    "Dijeljenjem cjelobrojnih operanada podrazumijevano se dobija tačan rezultat tipa float, a ne rezultat njihovog cjelobrojnog dijeljenja. Cjelobrojno dijeljenje se radi putem floor division operatora \"//\"."
   ]
  },
  {
   "cell_type": "code",
   "execution_count": 7,
   "id": "882f75b1",
   "metadata": {
    "scrolled": true
   },
   "outputs": [
    {
     "data": {
      "text/plain": [
       "3.5"
      ]
     },
     "execution_count": 7,
     "metadata": {},
     "output_type": "execute_result"
    }
   ],
   "source": [
    "7/2"
   ]
  },
  {
   "cell_type": "code",
   "execution_count": 8,
   "id": "26a54676",
   "metadata": {},
   "outputs": [
    {
     "data": {
      "text/plain": [
       "float"
      ]
     },
     "execution_count": 8,
     "metadata": {},
     "output_type": "execute_result"
    }
   ],
   "source": [
    "type(7/2)"
   ]
  },
  {
   "cell_type": "code",
   "execution_count": 9,
   "id": "d3b0801c",
   "metadata": {},
   "outputs": [
    {
     "data": {
      "text/plain": [
       "float"
      ]
     },
     "execution_count": 9,
     "metadata": {},
     "output_type": "execute_result"
    }
   ],
   "source": [
    "type(7/1)"
   ]
  },
  {
   "cell_type": "code",
   "execution_count": 10,
   "id": "cf5878ff",
   "metadata": {},
   "outputs": [
    {
     "data": {
      "text/plain": [
       "3"
      ]
     },
     "execution_count": 10,
     "metadata": {},
     "output_type": "execute_result"
    }
   ],
   "source": [
    "7//2"
   ]
  },
  {
   "cell_type": "code",
   "execution_count": 11,
   "id": "82139980",
   "metadata": {},
   "outputs": [
    {
     "data": {
      "text/plain": [
       "int"
      ]
     },
     "execution_count": 11,
     "metadata": {},
     "output_type": "execute_result"
    }
   ],
   "source": [
    "type(7//2)"
   ]
  },
  {
   "cell_type": "markdown",
   "id": "6eb36809",
   "metadata": {},
   "source": [
    "Modulo / Mod operator - omogućava da se dobije ostatak prilikom dijeljenja operanada. Rezultuje čudnim ponašanjem u radu sa float operandima, zbog floating-point reprezentacije podataka."
   ]
  },
  {
   "cell_type": "code",
   "execution_count": 12,
   "id": "bd16b100",
   "metadata": {},
   "outputs": [
    {
     "data": {
      "text/plain": [
       "1"
      ]
     },
     "execution_count": 12,
     "metadata": {},
     "output_type": "execute_result"
    }
   ],
   "source": [
    "7 % 2"
   ]
  },
  {
   "cell_type": "code",
   "execution_count": 13,
   "id": "ee0ac8af",
   "metadata": {},
   "outputs": [
    {
     "data": {
      "text/plain": [
       "0.09999999999999962"
      ]
     },
     "execution_count": 13,
     "metadata": {},
     "output_type": "execute_result"
    }
   ],
   "source": [
    "7 % 0.1"
   ]
  },
  {
   "cell_type": "markdown",
   "id": "625494c0",
   "metadata": {},
   "source": [
    "Operator stepenovanja (\"**\") omogućava i korjenovanje prvog operanda, tj. rad sa decimalnim eksponentima."
   ]
  },
  {
   "cell_type": "code",
   "execution_count": 14,
   "id": "1fda6def",
   "metadata": {},
   "outputs": [
    {
     "data": {
      "text/plain": [
       "8"
      ]
     },
     "execution_count": 14,
     "metadata": {},
     "output_type": "execute_result"
    }
   ],
   "source": [
    "2 ** 3"
   ]
  },
  {
   "cell_type": "code",
   "execution_count": 15,
   "id": "ef6e4777",
   "metadata": {},
   "outputs": [
    {
     "data": {
      "text/plain": [
       "1.4142135623730951"
      ]
     },
     "execution_count": 15,
     "metadata": {},
     "output_type": "execute_result"
    }
   ],
   "source": [
    "2 ** 0.5"
   ]
  },
  {
   "cell_type": "code",
   "execution_count": 16,
   "id": "bc80e2a8",
   "metadata": {},
   "outputs": [
    {
     "data": {
      "text/plain": [
       "'0x10'"
      ]
     },
     "execution_count": 16,
     "metadata": {},
     "output_type": "execute_result"
    }
   ],
   "source": [
    "hex(16)"
   ]
  },
  {
   "cell_type": "code",
   "execution_count": 17,
   "id": "8d8df700",
   "metadata": {},
   "outputs": [
    {
     "data": {
      "text/plain": [
       "'0b111'"
      ]
     },
     "execution_count": 17,
     "metadata": {},
     "output_type": "execute_result"
    }
   ],
   "source": [
    "bin(7)"
   ]
  },
  {
   "cell_type": "code",
   "execution_count": 18,
   "id": "4f31b28f",
   "metadata": {},
   "outputs": [
    {
     "data": {
      "text/plain": [
       "6.454"
      ]
     },
     "execution_count": 18,
     "metadata": {},
     "output_type": "execute_result"
    }
   ],
   "source": [
    "round(6.4536,3)"
   ]
  },
  {
   "cell_type": "code",
   "execution_count": 19,
   "id": "89aac024",
   "metadata": {},
   "outputs": [
    {
     "data": {
      "text/plain": [
       "True"
      ]
     },
     "execution_count": 19,
     "metadata": {},
     "output_type": "execute_result"
    }
   ],
   "source": [
    "pow(2,3)==2**3"
   ]
  },
  {
   "cell_type": "code",
   "execution_count": 20,
   "id": "5ad79734",
   "metadata": {},
   "outputs": [
    {
     "data": {
      "text/plain": [
       "True"
      ]
     },
     "execution_count": 20,
     "metadata": {},
     "output_type": "execute_result"
    }
   ],
   "source": [
    "pow(2,3,3)==(2**3)%3"
   ]
  },
  {
   "cell_type": "code",
   "execution_count": 21,
   "id": "f38c0136",
   "metadata": {},
   "outputs": [
    {
     "data": {
      "text/plain": [
       "3.42"
      ]
     },
     "execution_count": 21,
     "metadata": {},
     "output_type": "execute_result"
    }
   ],
   "source": [
    "abs(-3.42)"
   ]
  },
  {
   "cell_type": "markdown",
   "id": "a2cd86a4",
   "metadata": {},
   "source": [
    "## Stringovi\n",
    "Stringovi su nepromjenjive (immutable) sekvence karaktera. Nepromjenjivost stringova onemogućava izmjenu nekog od karaktera, njihovo dodavanje i brisanje. Prilikom konkatenacije stringova nastaje novi string.\n",
    "Određivanje dužine stringa (kao i bilo koje druge sekvence elemenata) se vrši putem len(SEQUENCE) funkcije."
   ]
  },
  {
   "cell_type": "code",
   "execution_count": 22,
   "id": "704ddf47",
   "metadata": {},
   "outputs": [
    {
     "data": {
      "text/plain": [
       "5"
      ]
     },
     "execution_count": 22,
     "metadata": {},
     "output_type": "execute_result"
    }
   ],
   "source": [
    "string_var1=\"Hello\"\n",
    "string_var2='Hello'\n",
    "string_var3=\"I'm Zeljko\"\n",
    "string_var4='\"smart\" devices'\n",
    "len(string_var1)"
   ]
  },
  {
   "cell_type": "code",
   "execution_count": 23,
   "id": "1c24c067",
   "metadata": {},
   "outputs": [
    {
     "ename": "TypeError",
     "evalue": "'str' object does not support item assignment",
     "output_type": "error",
     "traceback": [
      "\u001b[1;31m---------------------------------------------------------------------------\u001b[0m",
      "\u001b[1;31mTypeError\u001b[0m                                 Traceback (most recent call last)",
      "Cell \u001b[1;32mIn[23], line 1\u001b[0m\n\u001b[1;32m----> 1\u001b[0m string_var1[\u001b[38;5;241m0\u001b[39m]\u001b[38;5;241m=\u001b[39m\u001b[38;5;124m\"\u001b[39m\u001b[38;5;124mH\u001b[39m\u001b[38;5;124m\"\u001b[39m\n",
      "\u001b[1;31mTypeError\u001b[0m: 'str' object does not support item assignment"
     ]
    }
   ],
   "source": [
    "string_var1[0]=\"H\""
   ]
  },
  {
   "cell_type": "code",
   "execution_count": null,
   "id": "c2d9ea78",
   "metadata": {},
   "outputs": [],
   "source": [
    "string_var1[6]=\"!\""
   ]
  },
  {
   "cell_type": "markdown",
   "id": "c47e2c2f",
   "metadata": {},
   "source": [
    "Operator indeksiranja (\"[]\") omogućava dohvatanje jednog elementa stringa, tj. bilo koje sekvence. Elementima su pored nenegativnih indeksa dodjeljeni i negativni indeksi pri čemu prvi element ima indeks 0 i -len, a posljednji -1."
   ]
  },
  {
   "cell_type": "code",
   "execution_count": null,
   "id": "4e10a878",
   "metadata": {},
   "outputs": [],
   "source": [
    "string_var1[0]"
   ]
  },
  {
   "cell_type": "code",
   "execution_count": null,
   "id": "01795af7",
   "metadata": {},
   "outputs": [],
   "source": [
    "string_var1[-1]"
   ]
  },
  {
   "cell_type": "code",
   "execution_count": null,
   "id": "0404bda3",
   "metadata": {},
   "outputs": [],
   "source": [
    "string_var1[-5]"
   ]
  },
  {
   "cell_type": "code",
   "execution_count": null,
   "id": "f901d685",
   "metadata": {},
   "outputs": [],
   "source": [
    "Operator slicing-a (\"[start:stop:step]\") omogućava izdvajanje dijela sekvence. Izdvojeni dio počinje elementom sa indeksom start,\n",
    "a završava elementom čiji je indeks stop-1 (ili manji, u zavnostosi od koraka).\n",
    "Korak slicing-a (step) omogućava specifikaciju koji od elemenata (čiji se indeksi nalaze između start i stop) će biti izdvojeni.\n",
    "Slicing pri čemu se elementi redaju u obrnutom poretku od onog u izvornom stringu je moguć akko se navede negativan korak \n",
    "slicing-a."
   ]
  },
  {
   "cell_type": "code",
   "execution_count": null,
   "id": "c16eecef",
   "metadata": {},
   "outputs": [],
   "source": [
    "string_var1[2:]"
   ]
  },
  {
   "cell_type": "code",
   "execution_count": null,
   "id": "ef4a458b",
   "metadata": {},
   "outputs": [],
   "source": [
    "string_var1[2:5]"
   ]
  },
  {
   "cell_type": "code",
   "execution_count": null,
   "id": "8393f481",
   "metadata": {},
   "outputs": [],
   "source": [
    "string_var1[2:5:2]"
   ]
  },
  {
   "cell_type": "code",
   "execution_count": null,
   "id": "0aa4c165",
   "metadata": {},
   "outputs": [],
   "source": [
    "string_var1[-5:-3:]"
   ]
  },
  {
   "cell_type": "code",
   "execution_count": null,
   "id": "0ea30f82",
   "metadata": {},
   "outputs": [],
   "source": [
    "string_var1[-3::-1]"
   ]
  },
  {
   "cell_type": "code",
   "execution_count": null,
   "id": "e3b8196f",
   "metadata": {},
   "outputs": [],
   "source": [
    "string_var1[::-1]"
   ]
  },
  {
   "cell_type": "markdown",
   "id": "4574f016",
   "metadata": {},
   "source": [
    "Konkatenacija stringova predstavlja nadovezivanje stringova - koristi se operator sabiranja \"+\". Operator množenja \"*\" omogućava višestruku konkatenaciju istih stringova."
   ]
  },
  {
   "cell_type": "code",
   "execution_count": null,
   "id": "65caca8e",
   "metadata": {},
   "outputs": [],
   "source": [
    "string_var1+\" \"+string_var3"
   ]
  },
  {
   "cell_type": "code",
   "execution_count": null,
   "id": "e882dfb1",
   "metadata": {},
   "outputs": [],
   "source": [
    "string_var1*5"
   ]
  },
  {
   "cell_type": "markdown",
   "id": "1eb5f546",
   "metadata": {},
   "source": [
    "Ugrađene metode string klase su date u nastavku."
   ]
  },
  {
   "cell_type": "code",
   "execution_count": 36,
   "id": "e5215eec",
   "metadata": {},
   "outputs": [
    {
     "data": {
      "text/plain": [
       "'HELLO WORLD'"
      ]
     },
     "execution_count": 36,
     "metadata": {},
     "output_type": "execute_result"
    }
   ],
   "source": [
    "\"hello world\".upper()"
   ]
  },
  {
   "cell_type": "code",
   "execution_count": 37,
   "id": "94f24fde",
   "metadata": {},
   "outputs": [
    {
     "data": {
      "text/plain": [
       "'hello world'"
      ]
     },
     "execution_count": 37,
     "metadata": {},
     "output_type": "execute_result"
    }
   ],
   "source": [
    "\"hello world\".lower()"
   ]
  },
  {
   "cell_type": "code",
   "execution_count": 38,
   "id": "0e66b43d",
   "metadata": {},
   "outputs": [
    {
     "data": {
      "text/plain": [
       "'Hello world'"
      ]
     },
     "execution_count": 38,
     "metadata": {},
     "output_type": "execute_result"
    }
   ],
   "source": [
    "\"hello world\".capitalize()"
   ]
  },
  {
   "cell_type": "code",
   "execution_count": 39,
   "id": "606abb0b",
   "metadata": {},
   "outputs": [
    {
     "data": {
      "text/plain": [
       "'Hello World'"
      ]
     },
     "execution_count": 39,
     "metadata": {},
     "output_type": "execute_result"
    }
   ],
   "source": [
    "\"hello world\".title()"
   ]
  },
  {
   "cell_type": "code",
   "execution_count": 25,
   "id": "8d3d9ce2",
   "metadata": {},
   "outputs": [
    {
     "data": {
      "text/plain": [
       "['Hello', 'World']"
      ]
     },
     "execution_count": 25,
     "metadata": {},
     "output_type": "execute_result"
    }
   ],
   "source": [
    "\"Hello World\".split()"
   ]
  },
  {
   "cell_type": "code",
   "execution_count": 27,
   "id": "cc384930",
   "metadata": {},
   "outputs": [
    {
     "data": {
      "text/plain": [
       "['He', 'o World']"
      ]
     },
     "execution_count": 27,
     "metadata": {},
     "output_type": "execute_result"
    }
   ],
   "source": [
    "\"Hello World\".split(\"ll\")"
   ]
  },
  {
   "cell_type": "code",
   "execution_count": 26,
   "id": "a6a716d6",
   "metadata": {},
   "outputs": [
    {
     "data": {
      "text/plain": [
       "('He', 'll', 'o World')"
      ]
     },
     "execution_count": 26,
     "metadata": {},
     "output_type": "execute_result"
    }
   ],
   "source": [
    "\"Hello World\".partition(\"ll\")"
   ]
  },
  {
   "cell_type": "code",
   "execution_count": null,
   "id": "b4bfbba5",
   "metadata": {},
   "outputs": [],
   "source": [
    "\"Hello\".startswith(\"h\")"
   ]
  },
  {
   "cell_type": "code",
   "execution_count": null,
   "id": "477a75bd",
   "metadata": {},
   "outputs": [],
   "source": [
    "\"#-#\".join([\"1\",\"2\",\"3\"])"
   ]
  },
  {
   "cell_type": "code",
   "execution_count": null,
   "id": "af322e93",
   "metadata": {},
   "outputs": [],
   "source": [
    "list(\"hello\")"
   ]
  },
  {
   "cell_type": "code",
   "execution_count": null,
   "id": "3daa0ec1",
   "metadata": {},
   "outputs": [],
   "source": [
    "\"Hello\".index(\"lo\")"
   ]
  },
  {
   "cell_type": "code",
   "execution_count": null,
   "id": "91c4356e",
   "metadata": {},
   "outputs": [],
   "source": [
    "\"Hello\".count(\"l\")"
   ]
  },
  {
   "cell_type": "code",
   "execution_count": 28,
   "id": "3231ad28",
   "metadata": {},
   "outputs": [
    {
     "data": {
      "text/plain": [
       "False"
      ]
     },
     "execution_count": 28,
     "metadata": {},
     "output_type": "execute_result"
    }
   ],
   "source": [
    "\"Hello\".isupper()"
   ]
  },
  {
   "cell_type": "code",
   "execution_count": 29,
   "id": "8de3d926",
   "metadata": {},
   "outputs": [
    {
     "data": {
      "text/plain": [
       "False"
      ]
     },
     "execution_count": 29,
     "metadata": {},
     "output_type": "execute_result"
    }
   ],
   "source": [
    "\"Hello\".islower()"
   ]
  },
  {
   "cell_type": "code",
   "execution_count": 31,
   "id": "558b047a",
   "metadata": {},
   "outputs": [
    {
     "data": {
      "text/plain": [
       "True"
      ]
     },
     "execution_count": 31,
     "metadata": {},
     "output_type": "execute_result"
    }
   ],
   "source": [
    "\"Hello\".istitle()"
   ]
  },
  {
   "cell_type": "code",
   "execution_count": 33,
   "id": "ad72827e",
   "metadata": {},
   "outputs": [
    {
     "data": {
      "text/plain": [
       "True"
      ]
     },
     "execution_count": 33,
     "metadata": {},
     "output_type": "execute_result"
    }
   ],
   "source": [
    "\"Hello\".isalpha()"
   ]
  },
  {
   "cell_type": "code",
   "execution_count": 34,
   "id": "e1a87e44",
   "metadata": {},
   "outputs": [
    {
     "data": {
      "text/plain": [
       "True"
      ]
     },
     "execution_count": 34,
     "metadata": {},
     "output_type": "execute_result"
    }
   ],
   "source": [
    "\"Hello\".isalnum()"
   ]
  },
  {
   "cell_type": "code",
   "execution_count": 35,
   "id": "18dcd8d0",
   "metadata": {},
   "outputs": [
    {
     "data": {
      "text/plain": [
       "False"
      ]
     },
     "execution_count": 35,
     "metadata": {},
     "output_type": "execute_result"
    }
   ],
   "source": [
    "\"Hello\".isspace()"
   ]
  },
  {
   "cell_type": "markdown",
   "id": "9bb7c587",
   "metadata": {},
   "source": [
    "Tehnike interpolacije stringova su date u nastavku. Prva tehnika je upotreba %s i %r placeholder-a. Placeholder %s se mijenja sa rezultatom str() funkcije koje se proslijedi odgovarajući paramatera, a %r sa rezultatom repr() funkcije (string reprezentacije proslijeđenog objekta). "
   ]
  },
  {
   "cell_type": "code",
   "execution_count": null,
   "id": "8372b53d",
   "metadata": {},
   "outputs": [],
   "source": [
    "\"Hello, my name is %s\"%(\"Zeljko\")"
   ]
  },
  {
   "cell_type": "code",
   "execution_count": null,
   "id": "50d2d99b",
   "metadata": {},
   "outputs": [],
   "source": [
    "\"Hello, my name is %r\"%(\"Zeljko\")"
   ]
  },
  {
   "cell_type": "code",
   "execution_count": null,
   "id": "adfdb62e",
   "metadata": {},
   "outputs": [],
   "source": [
    "\"Result of equation is %6.3f\"%(3.1345)"
   ]
  },
  {
   "cell_type": "markdown",
   "id": "634f285f",
   "metadata": {},
   "source": [
    "Interpolacija stringova putem format() metode.\n",
    "Format metoda vrši implicitno poravnanje stringova uz lijevu ivicu, a brojeva uz desnu. Moguće je specifikovati poravnanje, širinu interpolisanih elemenata i padding karakter."
   ]
  },
  {
   "cell_type": "code",
   "execution_count": null,
   "id": "d305635d",
   "metadata": {},
   "outputs": [],
   "source": [
    "\"Hello, my name is {} {}.\".format(\"Zeljko\",\"Tripic\")"
   ]
  },
  {
   "cell_type": "code",
   "execution_count": null,
   "id": "ce54e458",
   "metadata": {},
   "outputs": [],
   "source": [
    "\"Hello, my name is {1} {0}.\".format(\"Tripic\",\"Zeljko\")"
   ]
  },
  {
   "cell_type": "code",
   "execution_count": null,
   "id": "4941113d",
   "metadata": {},
   "outputs": [],
   "source": [
    "\"Hello, my name is {firstname} {lastname}.\".format(lastname=\"Tripic\",firstname=\"Zeljko\")"
   ]
  },
  {
   "cell_type": "code",
   "execution_count": null,
   "id": "3978a03e",
   "metadata": {},
   "outputs": [],
   "source": [
    "\"Result od equation is {0:8.2f}\".format(117.5362)"
   ]
  },
  {
   "cell_type": "code",
   "execution_count": null,
   "id": "5605165b",
   "metadata": {},
   "outputs": [],
   "source": [
    "\"Result od equation is {value:8.2f}\".format(value=117.5362)"
   ]
  },
  {
   "cell_type": "code",
   "execution_count": null,
   "id": "a1e5bd96",
   "metadata": {},
   "outputs": [],
   "source": [
    "\"Result={0:8}\".format(23.1)"
   ]
  },
  {
   "cell_type": "code",
   "execution_count": null,
   "id": "4b04ddd3",
   "metadata": {},
   "outputs": [],
   "source": [
    "\"Result={0:<8}\".format(23.1)"
   ]
  },
  {
   "cell_type": "code",
   "execution_count": null,
   "id": "ed2940a0",
   "metadata": {},
   "outputs": [],
   "source": [
    "\"Result={0:^8}\".format(23.1)"
   ]
  },
  {
   "cell_type": "code",
   "execution_count": null,
   "id": "43fc918c",
   "metadata": {},
   "outputs": [],
   "source": [
    "\"Result={0:_^8}\".format(23.1)"
   ]
  },
  {
   "cell_type": "markdown",
   "id": "cac1e6f3",
   "metadata": {},
   "source": [
    "Interpolacija stringova putem formatiranih (tkz. f) string literala."
   ]
  },
  {
   "cell_type": "code",
   "execution_count": null,
   "id": "d41637fa",
   "metadata": {},
   "outputs": [],
   "source": [
    "name=\"Zeljko\"\n",
    "f\"Hello I'm {name}\""
   ]
  },
  {
   "cell_type": "code",
   "execution_count": null,
   "id": "95428c07",
   "metadata": {},
   "outputs": [],
   "source": [
    "f\"Hello I'm {name!r}\""
   ]
  },
  {
   "cell_type": "code",
   "execution_count": null,
   "id": "d8503ed6",
   "metadata": {},
   "outputs": [],
   "source": [
    "value=\"23.47\"\n",
    "f\"result={value:{5}.{4}}\""
   ]
  },
  {
   "cell_type": "code",
   "execution_count": null,
   "id": "ca1fb1b6",
   "metadata": {},
   "outputs": [],
   "source": [
    "f\"result={value:5.4}\""
   ]
  },
  {
   "cell_type": "code",
   "execution_count": null,
   "id": "5dda1b01",
   "metadata": {},
   "outputs": [],
   "source": [
    "Naredna linija koda bi isto trebala da radi. Ne radi ovdje iz nepoznatih razloga"
   ]
  },
  {
   "cell_type": "code",
   "execution_count": null,
   "id": "5c79c624",
   "metadata": {},
   "outputs": [],
   "source": [
    "print(f\"My 10 character, four decimal number is:{value:10.4f}\")"
   ]
  },
  {
   "cell_type": "markdown",
   "id": "05edf647",
   "metadata": {},
   "source": [
    "## Liste\n",
    "Liste su promjenjive (mutable) i uređene (ordered) sekvence elemenenata proizvoljnih tipova. Pošto su sekcence podržavaju operator indeksiranja i slicing-a. Mogu se modifikovati i brisati postojeći, te dodavati nove elementi u liste."
   ]
  },
  {
   "cell_type": "code",
   "execution_count": null,
   "id": "6cfcf848",
   "metadata": {},
   "outputs": [],
   "source": [
    "list1=[1,\"two\",(3),4.0]"
   ]
  },
  {
   "cell_type": "code",
   "execution_count": null,
   "id": "8ac33e3b",
   "metadata": {},
   "outputs": [],
   "source": [
    "list1.append(5)\n",
    "list1.append(1)"
   ]
  },
  {
   "cell_type": "code",
   "execution_count": null,
   "id": "6667f214",
   "metadata": {},
   "outputs": [],
   "source": [
    "list1[len(list)]=\"six\""
   ]
  },
  {
   "cell_type": "code",
   "execution_count": null,
   "id": "15b1cab0",
   "metadata": {},
   "outputs": [],
   "source": [
    "list1"
   ]
  },
  {
   "cell_type": "code",
   "execution_count": null,
   "id": "5888034d",
   "metadata": {},
   "outputs": [],
   "source": [
    "list1.index(1)"
   ]
  },
  {
   "cell_type": "code",
   "execution_count": null,
   "id": "6679178b",
   "metadata": {},
   "outputs": [],
   "source": [
    "list1.pop()"
   ]
  },
  {
   "cell_type": "code",
   "execution_count": null,
   "id": "dc248b9d",
   "metadata": {},
   "outputs": [],
   "source": [
    "list1.pop(0)"
   ]
  },
  {
   "cell_type": "code",
   "execution_count": null,
   "id": "eafee2e7",
   "metadata": {},
   "outputs": [],
   "source": [
    "list1"
   ]
  },
  {
   "cell_type": "code",
   "execution_count": null,
   "id": "551815a2",
   "metadata": {},
   "outputs": [],
   "source": [
    "list1.sort()"
   ]
  },
  {
   "cell_type": "code",
   "execution_count": null,
   "id": "bf78a887",
   "metadata": {},
   "outputs": [],
   "source": [
    "list2=[\"hello\",\"my\",\"name\",\"is\"]"
   ]
  },
  {
   "cell_type": "code",
   "execution_count": null,
   "id": "bc528e00",
   "metadata": {},
   "outputs": [],
   "source": [
    "list3=sorted(list2)\n",
    "list3"
   ]
  },
  {
   "cell_type": "code",
   "execution_count": null,
   "id": "9d701b08",
   "metadata": {},
   "outputs": [],
   "source": [
    "list2"
   ]
  },
  {
   "cell_type": "code",
   "execution_count": null,
   "id": "be80b573",
   "metadata": {},
   "outputs": [],
   "source": [
    "list2.sort()\n",
    "list2"
   ]
  },
  {
   "cell_type": "code",
   "execution_count": null,
   "id": "cafc57d0",
   "metadata": {},
   "outputs": [],
   "source": [
    "list2.reverse()\n",
    "list2"
   ]
  },
  {
   "cell_type": "markdown",
   "id": "c796c252",
   "metadata": {},
   "source": [
    "Konkatenacija listi se radi pomoću operatora \"+\" i \"*\" (za višestruku konkatenaciju)"
   ]
  },
  {
   "cell_type": "code",
   "execution_count": null,
   "id": "bee0d547",
   "metadata": {},
   "outputs": [],
   "source": [
    "list1+list2"
   ]
  },
  {
   "cell_type": "code",
   "execution_count": null,
   "id": "85570ca4",
   "metadata": {},
   "outputs": [],
   "source": [
    "list1*3"
   ]
  },
  {
   "cell_type": "markdown",
   "id": "42476221",
   "metadata": {},
   "source": [
    "List comprehensions - mehanizam koji omogućava efikasnu konstrukciju listi. Mehanizam se ponaša kao loop petlja u jednom redu."
   ]
  },
  {
   "cell_type": "code",
   "execution_count": null,
   "id": "219dadc4",
   "metadata": {},
   "outputs": [],
   "source": [
    "list11=[x*2 for x in \"hello\"]\n",
    "list11"
   ]
  },
  {
   "cell_type": "code",
   "execution_count": null,
   "id": "2347a3ba",
   "metadata": {},
   "outputs": [],
   "source": [
    "list22=[ x for x in range(1,100) if x%11==0]\n",
    "list22"
   ]
  },
  {
   "cell_type": "code",
   "execution_count": null,
   "id": "6af0edb8",
   "metadata": {},
   "outputs": [],
   "source": [
    "[x if x%3==0 else x**2  for x in range(1,15)]"
   ]
  },
  {
   "cell_type": "code",
   "execution_count": null,
   "id": "c36cfb74",
   "metadata": {},
   "outputs": [],
   "source": [
    "def myfunc(s):\n",
    "    return \"\".join([char.upper() if index%2==0 else char.lower() for index,char in enumerate(s)])\n",
    "myfunc(\"dkiJIfKFJfjdkJkk\")"
   ]
  },
  {
   "cell_type": "code",
   "execution_count": null,
   "id": "7fe3e90c",
   "metadata": {},
   "outputs": [],
   "source": [
    "matrix=[[1,2,3],[4,5,6],[7,8,9]]\n",
    "array=[element for row in matrix for element in row]\n",
    "print(array)"
   ]
  },
  {
   "cell_type": "markdown",
   "id": "8e4fb7b0",
   "metadata": {},
   "source": [
    "## Rječnici\n",
    "Rječnici u Python-u su neuređene (unordered) i promjenjive (mutable) kolekcije parova ključ vrijednost. Moguće je dodavati nove, brisati postojeće parove kao i mijenjati vrijednosti postijećih parova (NE I KLJUČEVE). Vrijednosti mogu imati proizvoljne tipove, a ključevi mogu biti brojevi, stringovi i n-torke (tuple-ovi) (tip ključa mora biit hashable). Kako rječnici nisu sekvence već mappings, pa nisu podržani operatori indeksiranja i slicing-a. Pristup vrijednosti unutar parova se radi po odgovarajućem ključu. Ne mogu se sortirati. Rječnici ne održavaju redoslijed elemenata - vrijednosti se čuvaju prema njihovom ključu, a ne njihovoj poziciji."
   ]
  },
  {
   "cell_type": "code",
   "execution_count": null,
   "id": "5a34154a",
   "metadata": {},
   "outputs": [],
   "source": [
    "d={\"key1\":1, 2: \"value2\",\"key3\": {\"key\":\"dictAsValue\"}}"
   ]
  },
  {
   "cell_type": "code",
   "execution_count": null,
   "id": "dde39720",
   "metadata": {},
   "outputs": [],
   "source": [
    "d[\"key3\"]"
   ]
  },
  {
   "cell_type": "code",
   "execution_count": null,
   "id": "dcf06a85",
   "metadata": {},
   "outputs": [],
   "source": [
    "d[\"key1\"]=11"
   ]
  },
  {
   "cell_type": "code",
   "execution_count": null,
   "id": "91cbd88f",
   "metadata": {},
   "outputs": [],
   "source": [
    "d[\"key4\"]=\"value4\""
   ]
  },
  {
   "cell_type": "code",
   "execution_count": null,
   "id": "10c47e3d",
   "metadata": {},
   "outputs": [],
   "source": [
    "d"
   ]
  },
  {
   "cell_type": "code",
   "execution_count": null,
   "id": "6a6e1d45",
   "metadata": {},
   "outputs": [],
   "source": [
    "d.keys()"
   ]
  },
  {
   "cell_type": "code",
   "execution_count": null,
   "id": "34172b0d",
   "metadata": {},
   "outputs": [],
   "source": [
    "d.values()"
   ]
  },
  {
   "cell_type": "code",
   "execution_count": null,
   "id": "35d7c2ff",
   "metadata": {},
   "outputs": [],
   "source": [
    "d.items()"
   ]
  },
  {
   "cell_type": "markdown",
   "id": "8ccb8b7e",
   "metadata": {},
   "source": [
    "ordereddict - rječnik koji čuva redaslijed parova"
   ]
  },
  {
   "cell_type": "markdown",
   "id": "7b949cf7",
   "metadata": {},
   "source": [
    "## N-torke (tuples)\n",
    "N-torke su nepromjenjive sekvence elemenata proizvoljnog tipa. Nije moguće naknadno dodavati nove elemente, mijenjati ili brisati postojeće. Nepromjenjivost n-torki je njihova bitna osobina koj može doprinijeti integritetu podataka. Pošto su ovo sekvence, podržan je operator indeksiranja i slicing-a."
   ]
  },
  {
   "cell_type": "code",
   "execution_count": null,
   "id": "ef15ec95",
   "metadata": {},
   "outputs": [],
   "source": [
    "tuple=(1,\"two\",3+3j,[4],1)"
   ]
  },
  {
   "cell_type": "code",
   "execution_count": null,
   "id": "072f865b",
   "metadata": {},
   "outputs": [],
   "source": [
    "tuple[0]=11"
   ]
  },
  {
   "cell_type": "code",
   "execution_count": null,
   "id": "a943f62b",
   "metadata": {},
   "outputs": [],
   "source": [
    "tuple[5]=\"new element\""
   ]
  },
  {
   "cell_type": "code",
   "execution_count": null,
   "id": "3413e361",
   "metadata": {},
   "outputs": [],
   "source": [
    "tuple.count(1)"
   ]
  },
  {
   "cell_type": "code",
   "execution_count": null,
   "id": "edeff717",
   "metadata": {},
   "outputs": [],
   "source": [
    "tuple.index(1)"
   ]
  },
  {
   "cell_type": "markdown",
   "id": "20110ced",
   "metadata": {},
   "source": [
    "## Skupovi\n",
    "Skupovi su neuređene (unordered) kolekcije jedinstevnih elemenata proizvoljnog tipa. Moguće je brisati postojeće i dodavati nove elemente."
   ]
  },
  {
   "cell_type": "code",
   "execution_count": 45,
   "id": "9d8145c1",
   "metadata": {},
   "outputs": [],
   "source": [
    "set1={1,2}"
   ]
  },
  {
   "cell_type": "code",
   "execution_count": 46,
   "id": "bbd323fd",
   "metadata": {},
   "outputs": [],
   "source": [
    "set1.add(3)"
   ]
  },
  {
   "cell_type": "code",
   "execution_count": 47,
   "id": "77f60f58",
   "metadata": {},
   "outputs": [],
   "source": [
    "set1.add(1)"
   ]
  },
  {
   "cell_type": "code",
   "execution_count": 48,
   "id": "3d2e5e8c",
   "metadata": {},
   "outputs": [
    {
     "data": {
      "text/plain": [
       "{1, 2, 3}"
      ]
     },
     "execution_count": 48,
     "metadata": {},
     "output_type": "execute_result"
    }
   ],
   "source": [
    "set1"
   ]
  },
  {
   "cell_type": "code",
   "execution_count": 51,
   "id": "86c15eb0",
   "metadata": {},
   "outputs": [],
   "source": [
    "set2={2,3,4}"
   ]
  },
  {
   "cell_type": "code",
   "execution_count": 52,
   "id": "04e75afe",
   "metadata": {},
   "outputs": [
    {
     "data": {
      "text/plain": [
       "{1}"
      ]
     },
     "execution_count": 52,
     "metadata": {},
     "output_type": "execute_result"
    }
   ],
   "source": [
    "set1.difference(set2)"
   ]
  },
  {
   "cell_type": "code",
   "execution_count": 53,
   "id": "01d8bfff",
   "metadata": {},
   "outputs": [
    {
     "data": {
      "text/plain": [
       "{2, 3}"
      ]
     },
     "execution_count": 53,
     "metadata": {},
     "output_type": "execute_result"
    }
   ],
   "source": [
    "set1.intersection(set2)"
   ]
  },
  {
   "cell_type": "code",
   "execution_count": null,
   "id": "a7cc5fa3",
   "metadata": {},
   "outputs": [],
   "source": []
  },
  {
   "cell_type": "code",
   "execution_count": null,
   "id": "0bacb0b0",
   "metadata": {},
   "outputs": [],
   "source": []
  },
  {
   "cell_type": "code",
   "execution_count": null,
   "id": "7f8fbc63",
   "metadata": {},
   "outputs": [],
   "source": []
  },
  {
   "cell_type": "code",
   "execution_count": null,
   "id": "aec715ea",
   "metadata": {},
   "outputs": [],
   "source": []
  },
  {
   "cell_type": "code",
   "execution_count": null,
   "id": "39e61de8",
   "metadata": {},
   "outputs": [],
   "source": []
  },
  {
   "cell_type": "code",
   "execution_count": null,
   "id": "ddcba4ea",
   "metadata": {},
   "outputs": [],
   "source": []
  },
  {
   "cell_type": "markdown",
   "id": "71f5bdd2",
   "metadata": {},
   "source": [
    "## Boolean\n",
    "boolean tip podataka može iamti vrijednost True ili False."
   ]
  },
  {
   "cell_type": "code",
   "execution_count": null,
   "id": "5d6b84da",
   "metadata": {},
   "outputs": [],
   "source": [
    "boolean_var=False"
   ]
  },
  {
   "cell_type": "markdown",
   "id": "ff68d5e5",
   "metadata": {},
   "source": [
    "## None\n",
    "none je tip podataka koji može da ima samo None vrijednost. None vrijednost naglašava nepostojanje smislene vrijednosti. Postoji samo jedan None objekat. Poređenje sa None se vrši putem is operatora."
   ]
  },
  {
   "cell_type": "code",
   "execution_count": null,
   "id": "5d309650",
   "metadata": {},
   "outputs": [],
   "source": []
  },
  {
   "cell_type": "code",
   "execution_count": null,
   "id": "867ef769",
   "metadata": {},
   "outputs": [],
   "source": []
  },
  {
   "cell_type": "code",
   "execution_count": null,
   "id": "ac3fbced",
   "metadata": {},
   "outputs": [],
   "source": []
  },
  {
   "cell_type": "code",
   "execution_count": null,
   "id": "2b6d0173",
   "metadata": {},
   "outputs": [],
   "source": []
  }
 ],
 "metadata": {
  "kernelspec": {
   "display_name": "Python 3 (ipykernel)",
   "language": "python",
   "name": "python3"
  },
  "language_info": {
   "codemirror_mode": {
    "name": "ipython",
    "version": 3
   },
   "file_extension": ".py",
   "mimetype": "text/x-python",
   "name": "python",
   "nbconvert_exporter": "python",
   "pygments_lexer": "ipython3",
   "version": "3.11.5"
  }
 },
 "nbformat": 4,
 "nbformat_minor": 5
}
