{
 "cells": [
  {
   "cell_type": "code",
   "execution_count": null,
   "id": "c47bf392",
   "metadata": {},
   "outputs": [],
   "source": [
    ". -> bilo koji karakter - wildcard\n",
    "\\w -> alfanumerički karakter\n",
    "\\d -> cifra\n",
    "\\s -> whitespace\n",
    "\\W -> !\\w\n",
    "\\D -> !\\d\n",
    "\\S -> !\\s\n",
    "[x1x2x3...] -> nešto od navedenog\n",
    "[^x1x2x3...] -> ništa od navedenog\n",
    "\n",
    "| -> ili\n",
    "^ -> počinje sa\n",
    "$ -> završava sa\n",
    "\n",
    "+ -> 1+ puta\n",
    "\\* -> 0+ puta\n",
    "? -> 0/1 puta\n",
    "{n} -> n puta\n",
    "{n1,n2} -> n1-n2 puta\n",
    "{n1,} -> n1+ puta"
   ]
  },
  {
   "cell_type": "code",
   "execution_count": 18,
   "id": "bf56bdf2",
   "metadata": {},
   "outputs": [
    {
     "name": "stdout",
     "output_type": "stream",
     "text": [
      "<re.Match object; span=(13, 16), match='1st'>\n",
      "1st\n",
      "('st',)\n",
      "(13, 16)\n",
      "13\n",
      "<re.Match object; span=(17, 25), match='of July '>\n"
     ]
    }
   ],
   "source": [
    "import re\n",
    "pattern1=r'\\d(st|nd|rd)'\n",
    "pattern2=re.compile(\"of\\s\\w+\\s\")\n",
    "s=\"I am born on 1st of July 2000, and today on 23rd of November 2023, I graduated from college!\"\n",
    "result1=re.search(pattern1,s)\n",
    "print(result1)\n",
    "print(result1.group())\n",
    "print(result1.span())\n",
    "print(result1.start())\n",
    "print(re.search(pattern2,s))"
   ]
  },
  {
   "cell_type": "code",
   "execution_count": 4,
   "id": "5eba85ba",
   "metadata": {},
   "outputs": [
    {
     "name": "stdout",
     "output_type": "stream",
     "text": [
      "['st', 'rd']\n"
     ]
    }
   ],
   "source": [
    "print(re.findall(pattern1,s))"
   ]
  },
  {
   "cell_type": "code",
   "execution_count": 7,
   "id": "3c4b6969",
   "metadata": {},
   "outputs": [
    {
     "name": "stdout",
     "output_type": "stream",
     "text": [
      "<re.Match object; span=(17, 25), match='of July '>\n",
      "<re.Match object; span=(49, 61), match='of November '>\n"
     ]
    }
   ],
   "source": [
    "for iter in re.finditer(pattern2,s):\n",
    "    print(iter)"
   ]
  },
  {
   "cell_type": "code",
   "execution_count": 19,
   "id": "a10d91ad",
   "metadata": {},
   "outputs": [
    {
     "name": "stdout",
     "output_type": "stream",
     "text": [
      "056-344\n",
      "056-344\n",
      "056\n",
      "344\n",
      "('056', '344')\n"
     ]
    }
   ],
   "source": [
    "groups_pattern=re.compile('(\\d{3})-(\\d{3})')\n",
    "result=re.search(groups_pattern,\"My phone number is 056-344\")\n",
    "print(result.group())\n",
    "print(result.group(0))\n",
    "print(result.group(1))\n",
    "print(result.group(2))\n",
    "print(result.groups())"
   ]
  },
  {
   "cell_type": "code",
   "execution_count": 20,
   "id": "a8c9f83f",
   "metadata": {},
   "outputs": [
    {
     "data": {
      "text/plain": [
       "<re.Match object; span=(0, 1), match='4'>"
      ]
     },
     "execution_count": 20,
     "metadata": {},
     "output_type": "execute_result"
    }
   ],
   "source": [
    "re.search(r'^\\d',\"4you\")"
   ]
  },
  {
   "cell_type": "code",
   "execution_count": 22,
   "id": "65e69e83",
   "metadata": {},
   "outputs": [],
   "source": [
    "re.search(r'\\d$',\"4you\")"
   ]
  },
  {
   "cell_type": "code",
   "execution_count": 24,
   "id": "a08f8eec",
   "metadata": {},
   "outputs": [
    {
     "data": {
      "text/plain": [
       "<re.Match object; span=(3, 4), match='2'>"
      ]
     },
     "execution_count": 24,
     "metadata": {},
     "output_type": "execute_result"
    }
   ],
   "source": [
    "re.search(r'\\d$',\"you2\")"
   ]
  },
  {
   "cell_type": "code",
   "execution_count": null,
   "id": "87f44f69",
   "metadata": {},
   "outputs": [],
   "source": []
  }
 ],
 "metadata": {
  "kernelspec": {
   "display_name": "Python 3 (ipykernel)",
   "language": "python",
   "name": "python3"
  },
  "language_info": {
   "codemirror_mode": {
    "name": "ipython",
    "version": 3
   },
   "file_extension": ".py",
   "mimetype": "text/x-python",
   "name": "python",
   "nbconvert_exporter": "python",
   "pygments_lexer": "ipython3",
   "version": "3.11.5"
  }
 },
 "nbformat": 4,
 "nbformat_minor": 5
}
