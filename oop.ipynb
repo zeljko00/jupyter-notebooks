{
 "cells": [
  {
   "cell_type": "markdown",
   "id": "9ddbe24c",
   "metadata": {},
   "source": [
    "U Pythonu-u sve je objekat."
   ]
  },
  {
   "cell_type": "code",
   "execution_count": 5,
   "id": "fbf4452b",
   "metadata": {},
   "outputs": [
    {
     "name": "stdout",
     "output_type": "stream",
     "text": [
      "I am animal!\n",
      "I am eating!\n",
      "I am eating!\n",
      "I am dog!\n",
      "Akita is barking!\n",
      "I am animal!\n",
      "I am dog!\n"
     ]
    }
   ],
   "source": [
    "class Animal:\n",
    "    nutrition=\"heterotrophic\"\n",
    "    def __init__(self,species):\n",
    "        self.species=species\n",
    "    def introduce(self):\n",
    "        print(\"I am animal!\")\n",
    "    def eat(self):\n",
    "        print(\"I am eating!\")\n",
    "class Dog(Animal):\n",
    "    def __init__(self,breed):\n",
    "        Animal.__init__(self,\"mamal\")\n",
    "        self.breed=breed\n",
    "    def introduce(self):\n",
    "        print(\"I am dog!\")\n",
    "    def bark(self):\n",
    "        print(self.breed+\" is barking!\")\n",
    "        \n",
    "animal=Animal(\"bird\")\n",
    "animal.introduce()\n",
    "animal.eat()\n",
    "dog=Dog(\"Akita\")\n",
    "dog.eat()\n",
    "dog.introduce()\n",
    "dog.bark()\n",
    "animals=[animal,dog]\n",
    "for a in animals:\n",
    "    a.introduce()"
   ]
  },
  {
   "cell_type": "markdown",
   "id": "52bbcc48",
   "metadata": {},
   "source": [
    "Nutrition je atribut klase i ima istu vrijednost za sve objekte. U for petlji je manifestovan polimorfizam. Ne postoje apstraktne klase, za oponašanje tog mehanizma može se podići NotImplementedError izuzetak nakon poziva metode koja \"nema\" implementaciju. Nije moguće definisati više od jednog konstruktorta, za simulaciju većeg broja konstruktora koji se razlikuju u broju parametara mogu se korisititi argumenti sa podrazumijevanim vrijednostima.\n",
    "__init__, __len__, __del__, __str__ su specijalne metode koje se riejtko pozivaju direktno"
   ]
  }
 ],
 "metadata": {
  "kernelspec": {
   "display_name": "Python 3 (ipykernel)",
   "language": "python",
   "name": "python3"
  },
  "language_info": {
   "codemirror_mode": {
    "name": "ipython",
    "version": 3
   },
   "file_extension": ".py",
   "mimetype": "text/x-python",
   "name": "python",
   "nbconvert_exporter": "python",
   "pygments_lexer": "ipython3",
   "version": "3.11.5"
  }
 },
 "nbformat": 4,
 "nbformat_minor": 5
}
