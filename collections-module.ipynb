{
 "cells": [
  {
   "cell_type": "markdown",
   "id": "1df046b9",
   "metadata": {},
   "source": [
    "# Collections\n",
    "Modul sa specijalizovanim kolekcijama podataka."
   ]
  },
  {
   "cell_type": "code",
   "execution_count": 3,
   "id": "56e4c872",
   "metadata": {},
   "outputs": [],
   "source": [
    "import collections"
   ]
  },
  {
   "cell_type": "markdown",
   "id": "c41a3235",
   "metadata": {},
   "source": [
    "## Counter\n",
    "Vrsta rječnika koja omogućava prebrojavanje hashable objekata - objekti se čuvaju kao ključevi, a broj njihovih pojavljivanja kao vrijednost."
   ]
  },
  {
   "cell_type": "code",
   "execution_count": 9,
   "id": "1a8288b0",
   "metadata": {},
   "outputs": [
    {
     "name": "stdout",
     "output_type": "stream",
     "text": [
      "Counter({3: 3, 2: 2, 4: 2, 1: 1})\n"
     ]
    }
   ],
   "source": [
    "l=[1,2,2,3,3,3,4,4]\n",
    "counter=collections.Counter(l)\n",
    "print(counter)"
   ]
  },
  {
   "cell_type": "code",
   "execution_count": 10,
   "id": "f4a611bf",
   "metadata": {},
   "outputs": [
    {
     "data": {
      "text/plain": [
       "dict_items([(1, 1), (2, 2), (3, 3), (4, 2)])"
      ]
     },
     "execution_count": 10,
     "metadata": {},
     "output_type": "execute_result"
    }
   ],
   "source": [
    "counter.items()"
   ]
  },
  {
   "cell_type": "markdown",
   "id": "63b53a84",
   "metadata": {},
   "source": [
    "Metoda most_common(n) vraća listu od n tuple-ova (element,count) sa elementima kolekcije koji se najčešće pojavljuju u kolekciji."
   ]
  },
  {
   "cell_type": "code",
   "execution_count": 11,
   "id": "7dd3f1c8",
   "metadata": {},
   "outputs": [
    {
     "data": {
      "text/plain": [
       "[(3, 3), (2, 2), (4, 2), (1, 1)]"
      ]
     },
     "execution_count": 11,
     "metadata": {},
     "output_type": "execute_result"
    }
   ],
   "source": [
    "counter.most_common()"
   ]
  },
  {
   "cell_type": "code",
   "execution_count": 15,
   "id": "4007906c",
   "metadata": {},
   "outputs": [
    {
     "data": {
      "text/plain": [
       "[(3, 3), (2, 2)]"
      ]
     },
     "execution_count": 15,
     "metadata": {},
     "output_type": "execute_result"
    }
   ],
   "source": [
    "counter.most_common(2)"
   ]
  },
  {
   "cell_type": "markdown",
   "id": "8890b1e9",
   "metadata": {},
   "source": [
    "## defaultdict\n",
    "Rječnik koji onemogućava podizanje KeyError-a, tako što prilikom referenciranja nepostojećeg ključa, dodaje taj ključ u kolekciju, a za njegovu vrijednost postavlja objekat tipa specifikovanog argumentom konstruktora defaultdict-a, koji je opciono i inicijalizovan."
   ]
  },
  {
   "cell_type": "code",
   "execution_count": 16,
   "id": "494fd4d1",
   "metadata": {},
   "outputs": [
    {
     "ename": "KeyError",
     "evalue": "'key'",
     "output_type": "error",
     "traceback": [
      "\u001b[1;31m---------------------------------------------------------------------------\u001b[0m",
      "\u001b[1;31mKeyError\u001b[0m                                  Traceback (most recent call last)",
      "Cell \u001b[1;32mIn[16], line 2\u001b[0m\n\u001b[0;32m      1\u001b[0m dictionary\u001b[38;5;241m=\u001b[39m{}\n\u001b[1;32m----> 2\u001b[0m dictionary[\u001b[38;5;124m\"\u001b[39m\u001b[38;5;124mkey\u001b[39m\u001b[38;5;124m\"\u001b[39m]\n",
      "\u001b[1;31mKeyError\u001b[0m: 'key'"
     ]
    }
   ],
   "source": [
    "dictionary={}\n",
    "dictionary[\"key\"]"
   ]
  },
  {
   "cell_type": "code",
   "execution_count": 20,
   "id": "71f20649",
   "metadata": {},
   "outputs": [
    {
     "data": {
      "text/plain": [
       "'default value'"
      ]
     },
     "execution_count": 20,
     "metadata": {},
     "output_type": "execute_result"
    }
   ],
   "source": [
    "default_dictionary=collections.defaultdict(str)\n",
    "default_dictionary[\"key\"]\n",
    "\n",
    "default_dictionary_with_init=collections.defaultdict(lambda: \"default value\")\n",
    "default_dictionary_with_init[\"key\"]"
   ]
  },
  {
   "cell_type": "markdown",
   "id": "13eafa04",
   "metadata": {},
   "source": [
    "## namedtuple\n",
    "namedtuple(\"class_name\", [\"attr1\",\"attr2\",..]) je factory fja koja omogućava kreiranje ad hoc klase objekata sa specifikovanim atributima (kao tuple čiji elementi (atributi) imaju svoja imena)."
   ]
  },
  {
   "cell_type": "code",
   "execution_count": 23,
   "id": "791d433a",
   "metadata": {},
   "outputs": [
    {
     "name": "stdout",
     "output_type": "stream",
     "text": [
      "Dog(breed='akita', name='rex')\n"
     ]
    }
   ],
   "source": [
    "Dog=collections.namedtuple(\"Dog\",[\"breed\",\"name\"])\n",
    "dog=Dog(breed=\"akita\",name=\"rex\")\n",
    "print(dog)"
   ]
  },
  {
   "cell_type": "code",
   "execution_count": null,
   "id": "1007a04c",
   "metadata": {},
   "outputs": [],
   "source": []
  }
 ],
 "metadata": {
  "kernelspec": {
   "display_name": "Python 3 (ipykernel)",
   "language": "python",
   "name": "python3"
  },
  "language_info": {
   "codemirror_mode": {
    "name": "ipython",
    "version": 3
   },
   "file_extension": ".py",
   "mimetype": "text/x-python",
   "name": "python",
   "nbconvert_exporter": "python",
   "pygments_lexer": "ipython3",
   "version": "3.11.5"
  }
 },
 "nbformat": 4,
 "nbformat_minor": 5
}
